{
 "cells": [
  {
   "cell_type": "code",
   "execution_count": 1,
   "metadata": {
    "collapsed": true
   },
   "outputs": [],
   "source": [
    "import pandas as pd\n",
    "import seaborn as sb\n",
    "\n",
    "low_memory=False\n",
    "%matplotlib inline\n",
    "pd.options.display.max_columns = 80\n",
    "pd.options.display.max_rows = 90"
   ]
  },
  {
   "cell_type": "markdown",
   "metadata": {},
   "source": [
    "# dataset"
   ]
  },
  {
   "cell_type": "markdown",
   "metadata": {},
   "source": [
    "Os dados utilizados nas análises abaixo foram extraídos de:\n",
    "http://floripadadosabertos.univille.br/dataset/fila-de-atendimento-saude-publica-de-sc"
   ]
  },
  {
   "cell_type": "code",
   "execution_count": 2,
   "metadata": {
    "collapsed": true
   },
   "outputs": [],
   "source": [
    "filename = '~/Downloads/fila-pública-2017-11-30.csv'\n",
    "df = pd.read_csv(filename)"
   ]
  },
  {
   "cell_type": "code",
   "execution_count": 3,
   "metadata": {},
   "outputs": [
    {
     "data": {
      "text/plain": [
       "(1306967, 17)"
      ]
     },
     "execution_count": 3,
     "metadata": {},
     "output_type": "execute_result"
    }
   ],
   "source": [
    "df.shape"
   ]
  },
  {
   "cell_type": "code",
   "execution_count": 4,
   "metadata": {},
   "outputs": [
    {
     "data": {
      "text/html": [
       "<div>\n",
       "<style>\n",
       "    .dataframe thead tr:only-child th {\n",
       "        text-align: right;\n",
       "    }\n",
       "\n",
       "    .dataframe thead th {\n",
       "        text-align: left;\n",
       "    }\n",
       "\n",
       "    .dataframe tbody tr th {\n",
       "        vertical-align: top;\n",
       "    }\n",
       "</style>\n",
       "<table border=\"1\" class=\"dataframe\">\n",
       "  <thead>\n",
       "    <tr style=\"text-align: right;\">\n",
       "      <th></th>\n",
       "      <th>POSIÇÃO</th>\n",
       "      <th>TEMPO MÉDIO DE ESPERA(DIAS)</th>\n",
       "      <th>NASCIMENTO</th>\n",
       "      <th>CNES DA UNIDADE SOLICITANTE</th>\n",
       "      <th>CÓDIGO SIGTAP DO PROCEDIMENTO</th>\n",
       "    </tr>\n",
       "  </thead>\n",
       "  <tbody>\n",
       "    <tr>\n",
       "      <th>count</th>\n",
       "      <td>1.306967e+06</td>\n",
       "      <td>1.288724e+06</td>\n",
       "      <td>0.0</td>\n",
       "      <td>1.306967e+06</td>\n",
       "      <td>1.305728e+06</td>\n",
       "    </tr>\n",
       "    <tr>\n",
       "      <th>mean</th>\n",
       "      <td>2.502004e+03</td>\n",
       "      <td>1.942741e+02</td>\n",
       "      <td>NaN</td>\n",
       "      <td>3.539747e+06</td>\n",
       "      <td>2.414849e+08</td>\n",
       "    </tr>\n",
       "    <tr>\n",
       "      <th>std</th>\n",
       "      <td>3.291319e+03</td>\n",
       "      <td>3.145126e+02</td>\n",
       "      <td>NaN</td>\n",
       "      <td>1.972460e+06</td>\n",
       "      <td>5.118480e+07</td>\n",
       "    </tr>\n",
       "    <tr>\n",
       "      <th>min</th>\n",
       "      <td>1.000000e+00</td>\n",
       "      <td>0.000000e+00</td>\n",
       "      <td>NaN</td>\n",
       "      <td>1.925900e+04</td>\n",
       "      <td>2.040601e+07</td>\n",
       "    </tr>\n",
       "    <tr>\n",
       "      <th>25%</th>\n",
       "      <td>2.490000e+02</td>\n",
       "      <td>3.100000e+01</td>\n",
       "      <td>NaN</td>\n",
       "      <td>2.418916e+06</td>\n",
       "      <td>2.020602e+08</td>\n",
       "    </tr>\n",
       "    <tr>\n",
       "      <th>50%</th>\n",
       "      <td>1.011000e+03</td>\n",
       "      <td>9.900000e+01</td>\n",
       "      <td>NaN</td>\n",
       "      <td>2.660792e+06</td>\n",
       "      <td>2.060101e+08</td>\n",
       "    </tr>\n",
       "    <tr>\n",
       "      <th>75%</th>\n",
       "      <td>3.351000e+03</td>\n",
       "      <td>1.590000e+02</td>\n",
       "      <td>NaN</td>\n",
       "      <td>5.465893e+06</td>\n",
       "      <td>3.010101e+08</td>\n",
       "    </tr>\n",
       "    <tr>\n",
       "      <th>max</th>\n",
       "      <td>1.874000e+04</td>\n",
       "      <td>2.019000e+03</td>\n",
       "      <td>NaN</td>\n",
       "      <td>9.362223e+06</td>\n",
       "      <td>7.010701e+08</td>\n",
       "    </tr>\n",
       "  </tbody>\n",
       "</table>\n",
       "</div>"
      ],
      "text/plain": [
       "            POSIÇÃO  TEMPO MÉDIO DE ESPERA(DIAS)  NASCIMENTO  \\\n",
       "count  1.306967e+06                 1.288724e+06         0.0   \n",
       "mean   2.502004e+03                 1.942741e+02         NaN   \n",
       "std    3.291319e+03                 3.145126e+02         NaN   \n",
       "min    1.000000e+00                 0.000000e+00         NaN   \n",
       "25%    2.490000e+02                 3.100000e+01         NaN   \n",
       "50%    1.011000e+03                 9.900000e+01         NaN   \n",
       "75%    3.351000e+03                 1.590000e+02         NaN   \n",
       "max    1.874000e+04                 2.019000e+03         NaN   \n",
       "\n",
       "       CNES DA UNIDADE SOLICITANTE  CÓDIGO SIGTAP DO PROCEDIMENTO  \n",
       "count                 1.306967e+06                   1.305728e+06  \n",
       "mean                  3.539747e+06                   2.414849e+08  \n",
       "std                   1.972460e+06                   5.118480e+07  \n",
       "min                   1.925900e+04                   2.040601e+07  \n",
       "25%                   2.418916e+06                   2.020602e+08  \n",
       "50%                   2.660792e+06                   2.060101e+08  \n",
       "75%                   5.465893e+06                   3.010101e+08  \n",
       "max                   9.362223e+06                   7.010701e+08  "
      ]
     },
     "execution_count": 4,
     "metadata": {},
     "output_type": "execute_result"
    }
   ],
   "source": [
    "df.describe()"
   ]
  },
  {
   "cell_type": "code",
   "execution_count": 5,
   "metadata": {},
   "outputs": [
    {
     "name": "stdout",
     "output_type": "stream",
     "text": [
      "<class 'pandas.core.frame.DataFrame'>\n",
      "RangeIndex: 1306967 entries, 0 to 1306966\n",
      "Data columns (total 17 columns):\n",
      "SERVIÇO                               1306967 non-null object\n",
      "CENTRAL DE REGULAÇÃO/RESPONSÁVEL      1306967 non-null object\n",
      "MUNICÍPIO DE RESIDÊNCIA               1306967 non-null object\n",
      "POSIÇÃO                               1306967 non-null int64\n",
      "TEMPO MÉDIO DE ESPERA(DIAS)           1288724 non-null float64\n",
      "CLASSIFICAÇÃO                         1306967 non-null object\n",
      "TIPO DA LISTA                         1306967 non-null object\n",
      "DOCUMENTO                             1306967 non-null object\n",
      "DATA DA SOLICITAÇÃO                   1306273 non-null object\n",
      "CIDADÃO                               1306967 non-null object\n",
      "NASCIMENTO                            0 non-null float64\n",
      "DESCRIÇÃO DO PROCEDIMENTO             1306967 non-null object\n",
      "CNES DA CENTRAL SOLICITANTE           1306967 non-null object\n",
      "CNES DA CENTRAL EXECUTANTE            1306966 non-null object\n",
      "CNES DA UNIDADE SOLICITANTE           1306967 non-null int64\n",
      "CÓDIGO SIGTAP DO PROCEDIMENTO         1305728 non-null float64\n",
      "DESCRIÇÃO DO GRUPO DO PROCEDIMENTO    724444 non-null object\n",
      "dtypes: float64(3), int64(2), object(12)\n",
      "memory usage: 169.5+ MB\n"
     ]
    }
   ],
   "source": [
    "df.info()"
   ]
  },
  {
   "cell_type": "code",
   "execution_count": 6,
   "metadata": {
    "collapsed": true
   },
   "outputs": [],
   "source": [
    "df.rename(columns={'MUNICÍPIO DE RESIDÊNCIA': 'MUNICÍPIODERESIDÊNCIA',\n",
    "                   'CENTRAL DE REGULAÇÃO/RESPONSÁVEL': 'CENTRALDEREGULAÇÃO/RESPONSÁVEL',\n",
    "                   'TEMPO MÉDIO DE ESPERA(DIAS)': 'TEMPOMÉDIODEESPERA(DIAS)',\n",
    "                   'DATA DA SOLICITAÇÃO': 'DATADASOLICITAÇÃO',\n",
    "                   'DESCRIÇÃO DO PROCEDIMENTO': 'DESCRIÇÃODOPROCEDIMENTO',\n",
    "                   'CNES DA CENTRAL EXECUTANTE': 'CNESDACENTRALEXECUTANTE',\n",
    "                   'CNES DA UNIDADE SOLICITANTE': 'CNESDAUNIDADESOLICITANTE'\n",
    "                  }, inplace=True)"
   ]
  },
  {
   "cell_type": "code",
   "execution_count": 7,
   "metadata": {
    "scrolled": true
   },
   "outputs": [
    {
     "data": {
      "text/html": [
       "<div>\n",
       "<style>\n",
       "    .dataframe thead tr:only-child th {\n",
       "        text-align: right;\n",
       "    }\n",
       "\n",
       "    .dataframe thead th {\n",
       "        text-align: left;\n",
       "    }\n",
       "\n",
       "    .dataframe tbody tr th {\n",
       "        vertical-align: top;\n",
       "    }\n",
       "</style>\n",
       "<table border=\"1\" class=\"dataframe\">\n",
       "  <thead>\n",
       "    <tr style=\"text-align: right;\">\n",
       "      <th></th>\n",
       "      <th>SERVIÇO</th>\n",
       "      <th>CENTRALDEREGULAÇÃO/RESPONSÁVEL</th>\n",
       "      <th>MUNICÍPIODERESIDÊNCIA</th>\n",
       "      <th>POSIÇÃO</th>\n",
       "      <th>TEMPOMÉDIODEESPERA(DIAS)</th>\n",
       "      <th>CLASSIFICAÇÃO</th>\n",
       "      <th>TIPO DA LISTA</th>\n",
       "      <th>DOCUMENTO</th>\n",
       "      <th>DATADASOLICITAÇÃO</th>\n",
       "      <th>CIDADÃO</th>\n",
       "      <th>NASCIMENTO</th>\n",
       "      <th>DESCRIÇÃODOPROCEDIMENTO</th>\n",
       "      <th>CNES DA CENTRAL SOLICITANTE</th>\n",
       "      <th>CNESDACENTRALEXECUTANTE</th>\n",
       "      <th>CNESDAUNIDADESOLICITANTE</th>\n",
       "      <th>CÓDIGO SIGTAP DO PROCEDIMENTO</th>\n",
       "      <th>DESCRIÇÃO DO GRUPO DO PROCEDIMENTO</th>\n",
       "    </tr>\n",
       "  </thead>\n",
       "  <tbody>\n",
       "    <tr>\n",
       "      <th>825302</th>\n",
       "      <td>Consulta</td>\n",
       "      <td>CENTRO DE SAUDE PROCASA</td>\n",
       "      <td>SAO JOSE</td>\n",
       "      <td>397</td>\n",
       "      <td>217.0</td>\n",
       "      <td>3 - Verde</td>\n",
       "      <td>Regulada</td>\n",
       "      <td>706400629304688</td>\n",
       "      <td>15/06/2015 10:01:13</td>\n",
       "      <td>S L D</td>\n",
       "      <td>NaN</td>\n",
       "      <td>CONSULTA EM CIRURGIA VASCULAR - ADULTO</td>\n",
       "      <td>5908418</td>\n",
       "      <td>2692260</td>\n",
       "      <td>2663546</td>\n",
       "      <td>301010072.0</td>\n",
       "      <td>NaN</td>\n",
       "    </tr>\n",
       "    <tr>\n",
       "      <th>1090446</th>\n",
       "      <td>Exame</td>\n",
       "      <td>AMBULATORIO GERAL DR DIOGO VERGARA</td>\n",
       "      <td>BLUMENAU</td>\n",
       "      <td>592</td>\n",
       "      <td>21.0</td>\n",
       "      <td>4 - Azul</td>\n",
       "      <td>Regulada</td>\n",
       "      <td>700001239693405</td>\n",
       "      <td>22/08/2017 16:36:10</td>\n",
       "      <td>L C D G</td>\n",
       "      <td>NaN</td>\n",
       "      <td>TGO</td>\n",
       "      <td>2353654</td>\n",
       "      <td>2353654</td>\n",
       "      <td>2512661</td>\n",
       "      <td>202010643.0</td>\n",
       "      <td>GRUPO - PATOLOGIA CLINICA (EXAMES DE LABORATORIO)</td>\n",
       "    </tr>\n",
       "    <tr>\n",
       "      <th>254034</th>\n",
       "      <td>Exame</td>\n",
       "      <td>CENTRO DE SAUDE SAO SEBASTIAO</td>\n",
       "      <td>PALHOCA</td>\n",
       "      <td>5480</td>\n",
       "      <td>162.0</td>\n",
       "      <td>4 - Azul</td>\n",
       "      <td>Fila única</td>\n",
       "      <td>700501567765157</td>\n",
       "      <td>14/08/2017 10:41:56</td>\n",
       "      <td>C S C</td>\n",
       "      <td>NaN</td>\n",
       "      <td>FERRO SERICO</td>\n",
       "      <td>421190</td>\n",
       "      <td>6082351</td>\n",
       "      <td>7797893</td>\n",
       "      <td>202010392.0</td>\n",
       "      <td>GRUPO - PATOLOGIA CLINICA (EXAMES DE LABORATORIO)</td>\n",
       "    </tr>\n",
       "    <tr>\n",
       "      <th>312467</th>\n",
       "      <td>Exame</td>\n",
       "      <td>CENTRO DE SAUDE RIO GRANDE</td>\n",
       "      <td>PALHOCA</td>\n",
       "      <td>11236</td>\n",
       "      <td>139.0</td>\n",
       "      <td>4 - Azul</td>\n",
       "      <td>Fila única</td>\n",
       "      <td>701400614536838</td>\n",
       "      <td>17/10/2017 16:18:13</td>\n",
       "      <td>F D S</td>\n",
       "      <td>NaN</td>\n",
       "      <td>ANTIPEROXIDASE /ANTI TPO</td>\n",
       "      <td>421190</td>\n",
       "      <td>6082351</td>\n",
       "      <td>5548292</td>\n",
       "      <td>202030555.0</td>\n",
       "      <td>GRUPO - PATOLOGIA CLINICA (EXAMES DE LABORATORIO)</td>\n",
       "    </tr>\n",
       "    <tr>\n",
       "      <th>381921</th>\n",
       "      <td>Consulta</td>\n",
       "      <td>SMS SECRETARIA MUNICIPAL DE SAUDE</td>\n",
       "      <td>ARAQUARI</td>\n",
       "      <td>120</td>\n",
       "      <td>35.0</td>\n",
       "      <td>4 - Azul</td>\n",
       "      <td>Regulada</td>\n",
       "      <td>704203201875282</td>\n",
       "      <td>26/10/2017 10:09:36</td>\n",
       "      <td>K S D O L</td>\n",
       "      <td>NaN</td>\n",
       "      <td>CONSULTA EM OFTALMOLOGIA - CLINICA</td>\n",
       "      <td>6426832</td>\n",
       "      <td>6426832</td>\n",
       "      <td>6426832</td>\n",
       "      <td>301010072.0</td>\n",
       "      <td>NaN</td>\n",
       "    </tr>\n",
       "    <tr>\n",
       "      <th>1120079</th>\n",
       "      <td>Exame</td>\n",
       "      <td>DOUTOR PEDRINHO</td>\n",
       "      <td>DOUTOR PEDRINHO</td>\n",
       "      <td>924</td>\n",
       "      <td>184.0</td>\n",
       "      <td>4 - Azul</td>\n",
       "      <td>Regulada</td>\n",
       "      <td>700000199391801</td>\n",
       "      <td>22/08/2017 16:17:44</td>\n",
       "      <td>T Z</td>\n",
       "      <td>NaN</td>\n",
       "      <td>RESSONANCIA MAGNETICA DE COLUNA LOMBO-SACRA</td>\n",
       "      <td>420515</td>\n",
       "      <td>2353654</td>\n",
       "      <td>1111106</td>\n",
       "      <td>207010048.0</td>\n",
       "      <td>GRUPO - RESSONANCIA MAGNETICA</td>\n",
       "    </tr>\n",
       "    <tr>\n",
       "      <th>804539</th>\n",
       "      <td>Consulta</td>\n",
       "      <td>SECRETARIA MUNICIPAL DE SAUDE DE SANTA ROSA DO...</td>\n",
       "      <td>SANTA ROSA DO SUL</td>\n",
       "      <td>163</td>\n",
       "      <td>338.0</td>\n",
       "      <td>3 - Verde</td>\n",
       "      <td>Regulada</td>\n",
       "      <td>709209294171937</td>\n",
       "      <td>03/07/2017 08:42:21</td>\n",
       "      <td>A T T</td>\n",
       "      <td>NaN</td>\n",
       "      <td>CONSULTA EM PROCTOLOGIA - GERAL</td>\n",
       "      <td>421565</td>\n",
       "      <td>2692260</td>\n",
       "      <td>2647141</td>\n",
       "      <td>301010072.0</td>\n",
       "      <td>NaN</td>\n",
       "    </tr>\n",
       "    <tr>\n",
       "      <th>75229</th>\n",
       "      <td>Consulta</td>\n",
       "      <td>UNIDADE BASICA DE SAUDE SANTA LUZIA</td>\n",
       "      <td>CRICIUMA</td>\n",
       "      <td>6112</td>\n",
       "      <td>43.0</td>\n",
       "      <td>4 - Azul</td>\n",
       "      <td>Fila única</td>\n",
       "      <td>703003853960978</td>\n",
       "      <td>27/10/2017 13:42:44</td>\n",
       "      <td>A P F</td>\n",
       "      <td>NaN</td>\n",
       "      <td>CONSULTA EM OFTALMOLOGIA - GERAL</td>\n",
       "      <td>7937547</td>\n",
       "      <td>7937547</td>\n",
       "      <td>2647311</td>\n",
       "      <td>301010072.0</td>\n",
       "      <td>NaN</td>\n",
       "    </tr>\n",
       "    <tr>\n",
       "      <th>1230377</th>\n",
       "      <td>Exame</td>\n",
       "      <td>CENTRO DE SAUDE CAMBIRELA FURADINHO</td>\n",
       "      <td>PALHOCA</td>\n",
       "      <td>9054</td>\n",
       "      <td>119.0</td>\n",
       "      <td>4 - Azul</td>\n",
       "      <td>Fila única</td>\n",
       "      <td>705005057124450</td>\n",
       "      <td>06/10/2017 14:45:00</td>\n",
       "      <td>S E D S</td>\n",
       "      <td>NaN</td>\n",
       "      <td>HEMOGLOBINA GLICOSILADA</td>\n",
       "      <td>6082351</td>\n",
       "      <td>6939392</td>\n",
       "      <td>2641534</td>\n",
       "      <td>202010503.0</td>\n",
       "      <td>GRUPO - PATOLOGIA CLINICA (EXAMES DE LABORATORIO)</td>\n",
       "    </tr>\n",
       "    <tr>\n",
       "      <th>540713</th>\n",
       "      <td>Exame</td>\n",
       "      <td>SECRETARIA MUNICIPAL DE SAUDE</td>\n",
       "      <td>CHAPECO</td>\n",
       "      <td>865</td>\n",
       "      <td>33.0</td>\n",
       "      <td>4 - Azul</td>\n",
       "      <td>Regulada</td>\n",
       "      <td>700607986944969</td>\n",
       "      <td>16/08/2017 16:14:55</td>\n",
       "      <td>S B</td>\n",
       "      <td>NaN</td>\n",
       "      <td>PAQUIMETRIA ULTRASSONICA - OLHO ESQUERDO</td>\n",
       "      <td>7974671</td>\n",
       "      <td>7974671</td>\n",
       "      <td>6361315</td>\n",
       "      <td>205020020.0</td>\n",
       "      <td>GRUPO - DIAGNOSTICO EM OFTALMOLOGIA</td>\n",
       "    </tr>\n",
       "  </tbody>\n",
       "</table>\n",
       "</div>"
      ],
      "text/plain": [
       "          SERVIÇO                     CENTRALDEREGULAÇÃO/RESPONSÁVEL  \\\n",
       "825302   Consulta                            CENTRO DE SAUDE PROCASA   \n",
       "1090446     Exame                 AMBULATORIO GERAL DR DIOGO VERGARA   \n",
       "254034      Exame                      CENTRO DE SAUDE SAO SEBASTIAO   \n",
       "312467      Exame                         CENTRO DE SAUDE RIO GRANDE   \n",
       "381921   Consulta                  SMS SECRETARIA MUNICIPAL DE SAUDE   \n",
       "1120079     Exame                                    DOUTOR PEDRINHO   \n",
       "804539   Consulta  SECRETARIA MUNICIPAL DE SAUDE DE SANTA ROSA DO...   \n",
       "75229    Consulta                UNIDADE BASICA DE SAUDE SANTA LUZIA   \n",
       "1230377     Exame                CENTRO DE SAUDE CAMBIRELA FURADINHO   \n",
       "540713      Exame                      SECRETARIA MUNICIPAL DE SAUDE   \n",
       "\n",
       "        MUNICÍPIODERESIDÊNCIA  POSIÇÃO  TEMPOMÉDIODEESPERA(DIAS)  \\\n",
       "825302               SAO JOSE      397                     217.0   \n",
       "1090446              BLUMENAU      592                      21.0   \n",
       "254034                PALHOCA     5480                     162.0   \n",
       "312467                PALHOCA    11236                     139.0   \n",
       "381921               ARAQUARI      120                      35.0   \n",
       "1120079       DOUTOR PEDRINHO      924                     184.0   \n",
       "804539      SANTA ROSA DO SUL      163                     338.0   \n",
       "75229                CRICIUMA     6112                      43.0   \n",
       "1230377               PALHOCA     9054                     119.0   \n",
       "540713                CHAPECO      865                      33.0   \n",
       "\n",
       "        CLASSIFICAÇÃO TIPO DA LISTA        DOCUMENTO    DATADASOLICITAÇÃO  \\\n",
       "825302      3 - Verde      Regulada  706400629304688  15/06/2015 10:01:13   \n",
       "1090446      4 - Azul      Regulada  700001239693405  22/08/2017 16:36:10   \n",
       "254034       4 - Azul    Fila única  700501567765157  14/08/2017 10:41:56   \n",
       "312467       4 - Azul    Fila única  701400614536838  17/10/2017 16:18:13   \n",
       "381921       4 - Azul      Regulada  704203201875282  26/10/2017 10:09:36   \n",
       "1120079      4 - Azul      Regulada  700000199391801  22/08/2017 16:17:44   \n",
       "804539      3 - Verde      Regulada  709209294171937  03/07/2017 08:42:21   \n",
       "75229        4 - Azul    Fila única  703003853960978  27/10/2017 13:42:44   \n",
       "1230377      4 - Azul    Fila única  705005057124450  06/10/2017 14:45:00   \n",
       "540713       4 - Azul      Regulada  700607986944969  16/08/2017 16:14:55   \n",
       "\n",
       "           CIDADÃO  NASCIMENTO                      DESCRIÇÃODOPROCEDIMENTO  \\\n",
       "825302       S L D         NaN       CONSULTA EM CIRURGIA VASCULAR - ADULTO   \n",
       "1090446    L C D G         NaN                                          TGO   \n",
       "254034       C S C         NaN                                 FERRO SERICO   \n",
       "312467       F D S         NaN                     ANTIPEROXIDASE /ANTI TPO   \n",
       "381921   K S D O L         NaN           CONSULTA EM OFTALMOLOGIA - CLINICA   \n",
       "1120079        T Z         NaN  RESSONANCIA MAGNETICA DE COLUNA LOMBO-SACRA   \n",
       "804539       A T T         NaN              CONSULTA EM PROCTOLOGIA - GERAL   \n",
       "75229        A P F         NaN             CONSULTA EM OFTALMOLOGIA - GERAL   \n",
       "1230377    S E D S         NaN                      HEMOGLOBINA GLICOSILADA   \n",
       "540713         S B         NaN     PAQUIMETRIA ULTRASSONICA - OLHO ESQUERDO   \n",
       "\n",
       "        CNES DA CENTRAL SOLICITANTE CNESDACENTRALEXECUTANTE  \\\n",
       "825302                      5908418                 2692260   \n",
       "1090446                     2353654                 2353654   \n",
       "254034                       421190                 6082351   \n",
       "312467                       421190                 6082351   \n",
       "381921                      6426832                 6426832   \n",
       "1120079                      420515                 2353654   \n",
       "804539                       421565                 2692260   \n",
       "75229                       7937547                 7937547   \n",
       "1230377                     6082351                 6939392   \n",
       "540713                      7974671                 7974671   \n",
       "\n",
       "         CNESDAUNIDADESOLICITANTE  CÓDIGO SIGTAP DO PROCEDIMENTO  \\\n",
       "825302                    2663546                    301010072.0   \n",
       "1090446                   2512661                    202010643.0   \n",
       "254034                    7797893                    202010392.0   \n",
       "312467                    5548292                    202030555.0   \n",
       "381921                    6426832                    301010072.0   \n",
       "1120079                   1111106                    207010048.0   \n",
       "804539                    2647141                    301010072.0   \n",
       "75229                     2647311                    301010072.0   \n",
       "1230377                   2641534                    202010503.0   \n",
       "540713                    6361315                    205020020.0   \n",
       "\n",
       "                        DESCRIÇÃO DO GRUPO DO PROCEDIMENTO  \n",
       "825302                                                 NaN  \n",
       "1090446  GRUPO - PATOLOGIA CLINICA (EXAMES DE LABORATORIO)  \n",
       "254034   GRUPO - PATOLOGIA CLINICA (EXAMES DE LABORATORIO)  \n",
       "312467   GRUPO - PATOLOGIA CLINICA (EXAMES DE LABORATORIO)  \n",
       "381921                                                 NaN  \n",
       "1120079                      GRUPO - RESSONANCIA MAGNETICA  \n",
       "804539                                                 NaN  \n",
       "75229                                                  NaN  \n",
       "1230377  GRUPO - PATOLOGIA CLINICA (EXAMES DE LABORATORIO)  \n",
       "540713                 GRUPO - DIAGNOSTICO EM OFTALMOLOGIA  "
      ]
     },
     "execution_count": 7,
     "metadata": {},
     "output_type": "execute_result"
    }
   ],
   "source": [
    "df.sample(10)"
   ]
  },
  {
   "cell_type": "markdown",
   "metadata": {},
   "source": [
    "# serviços solicitados por municípios"
   ]
  },
  {
   "cell_type": "code",
   "execution_count": 8,
   "metadata": {},
   "outputs": [
    {
     "data": {
      "text/plain": [
       "<matplotlib.axes._subplots.AxesSubplot at 0x7f2561b787b8>"
      ]
     },
     "execution_count": 8,
     "metadata": {},
     "output_type": "execute_result"
    },
    {
     "data": {
      "image/png": "[encoded data removed]",
      "text/plain": [
       "<matplotlib.figure.Figure at 0x7f2561b782e8>"
      ]
     },
     "metadata": {},
     "output_type": "display_data"
    }
   ],
   "source": [
    "df.groupby('SERVIÇO').size().sort_values().plot(kind='barh')"
   ]
  },
  {
   "cell_type": "code",
   "execution_count": 9,
   "metadata": {},
   "outputs": [
    {
     "data": {
      "text/plain": [
       "<matplotlib.axes._subplots.AxesSubplot at 0x7f257897aef0>"
      ]
     },
     "execution_count": 9,
     "metadata": {},
     "output_type": "execute_result"
    },
    {
     "data": {
      "image/png": "[encoded data removed]",
      "text/plain": [
       "<matplotlib.figure.Figure at 0x7f2578998ac8>"
      ]
     },
     "metadata": {},
     "output_type": "display_data"
    }
   ],
   "source": [
    "df.groupby('MUNICÍPIODERESIDÊNCIA').size().sort_values().tail(20).plot(kind='barh', figsize=(10,10))"
   ]
  },
  {
   "cell_type": "code",
   "execution_count": 10,
   "metadata": {},
   "outputs": [
    {
     "data": {
      "text/plain": [
       "<matplotlib.axes._subplots.AxesSubplot at 0x7f257885ee48>"
      ]
     },
     "execution_count": 10,
     "metadata": {},
     "output_type": "execute_result"
    },
    {
     "data": {
      "image/png": "[encoded data removed]",
      "text/plain": [
       "<matplotlib.figure.Figure at 0x7f257886e3c8>"
      ]
     },
     "metadata": {},
     "output_type": "display_data"
    }
   ],
   "source": [
    "df.query('SERVIÇO == \"Exame\"')['MUNICÍPIODERESIDÊNCIA'].value_counts().head().plot(kind='barh')"
   ]
  },
  {
   "cell_type": "code",
   "execution_count": 11,
   "metadata": {},
   "outputs": [
    {
     "data": {
      "text/plain": [
       "PALHOCA                      347913\n",
       "SAO JOSE                     102497\n",
       "BLUMENAU                      57577\n",
       "BIGUACU                       55737\n",
       "FLORIANOPOLIS                 45871\n",
       "BRUSQUE                       42011\n",
       "CHAPECO                       30321\n",
       "CRICIUMA                      26435\n",
       "GOVERNADOR CELSO RAMOS        14941\n",
       "JOINVILLE                     11112\n",
       "SANTO AMARO DA IMPERATRIZ     11091\n",
       "GASPAR                         8683\n",
       "LAGES                          6154\n",
       "GAROPABA                       5503\n",
       "ARARANGUA                      4869\n",
       "Name: MUNICÍPIODERESIDÊNCIA, dtype: int64"
      ]
     },
     "execution_count": 11,
     "metadata": {},
     "output_type": "execute_result"
    }
   ],
   "source": [
    "df.query('SERVIÇO == \"Exame\"')['MUNICÍPIODERESIDÊNCIA'].value_counts().head(15)"
   ]
  },
  {
   "cell_type": "code",
   "execution_count": 12,
   "metadata": {},
   "outputs": [
    {
     "data": {
      "text/plain": [
       "<matplotlib.axes._subplots.AxesSubplot at 0x7f257880e278>"
      ]
     },
     "execution_count": 12,
     "metadata": {},
     "output_type": "execute_result"
    },
    {
     "data": {
      "image/png": "[encoded data removed]",
      "text/plain": [
       "<matplotlib.figure.Figure at 0x7f257879f9b0>"
      ]
     },
     "metadata": {},
     "output_type": "display_data"
    }
   ],
   "source": [
    "df.query('SERVIÇO == \"Consulta\"')['MUNICÍPIODERESIDÊNCIA'].value_counts().head().plot(kind='barh')"
   ]
  },
  {
   "cell_type": "code",
   "execution_count": 13,
   "metadata": {},
   "outputs": [
    {
     "data": {
      "text/plain": [
       "CRICIUMA                     78185\n",
       "FLORIANOPOLIS                69684\n",
       "SAO JOSE                     39062\n",
       "CHAPECO                      36428\n",
       "PALHOCA                      36313\n",
       "BLUMENAU                     26156\n",
       "BIGUACU                      22435\n",
       "ITAJAI                       13739\n",
       "BRUSQUE                       8583\n",
       "LAGES                         6413\n",
       "SAO MIGUEL DO OESTE           5587\n",
       "ITAPEMA                       5566\n",
       "SANTO AMARO DA IMPERATRIZ     5191\n",
       "ARARANGUA                     5012\n",
       "GOVERNADOR CELSO RAMOS        4534\n",
       "Name: MUNICÍPIODERESIDÊNCIA, dtype: int64"
      ]
     },
     "execution_count": 13,
     "metadata": {},
     "output_type": "execute_result"
    }
   ],
   "source": [
    "df.query('SERVIÇO == \"Consulta\"')['MUNICÍPIODERESIDÊNCIA'].value_counts().head(15)"
   ]
  },
  {
   "cell_type": "code",
   "execution_count": 14,
   "metadata": {},
   "outputs": [
    {
     "data": {
      "text/plain": [
       "<matplotlib.axes._subplots.AxesSubplot at 0x7f2578792358>"
      ]
     },
     "execution_count": 14,
     "metadata": {},
     "output_type": "execute_result"
    },
    {
     "data": {
      "image/png": "[encoded data removed]",
      "text/plain": [
       "<matplotlib.figure.Figure at 0x7f2578723358>"
      ]
     },
     "metadata": {},
     "output_type": "display_data"
    }
   ],
   "source": [
    "df.query('SERVIÇO == \"Cirurgia eletiva\"')['MUNICÍPIODERESIDÊNCIA'].value_counts().head(10).plot(kind='barh')"
   ]
  },
  {
   "cell_type": "markdown",
   "metadata": {},
   "source": [
    "# média de exames por paciente por município"
   ]
  },
  {
   "cell_type": "markdown",
   "metadata": {},
   "source": [
    "Palhoça tem entre 3 e 5x mais exames por paciente em média do que as outras cidades com alto número de exames solicitados."
   ]
  },
  {
   "cell_type": "code",
   "execution_count": 15,
   "metadata": {},
   "outputs": [
    {
     "data": {
      "text/plain": [
       "count    31797.000000\n",
       "mean        10.941693\n",
       "std         12.505739\n",
       "min          1.000000\n",
       "25%          2.000000\n",
       "50%          4.000000\n",
       "75%         18.000000\n",
       "max         90.000000\n",
       "Name: DOCUMENTO, dtype: float64"
      ]
     },
     "execution_count": 15,
     "metadata": {},
     "output_type": "execute_result"
    }
   ],
   "source": [
    "df.query('SERVIÇO == \"Exame\" and MUNICÍPIODERESIDÊNCIA == \"PALHOCA\"').DOCUMENTO.value_counts().describe()"
   ]
  },
  {
   "cell_type": "code",
   "execution_count": 16,
   "metadata": {},
   "outputs": [
    {
     "data": {
      "text/plain": [
       "count    54560.000000\n",
       "mean         1.878611\n",
       "std          1.901741\n",
       "min          1.000000\n",
       "25%          1.000000\n",
       "50%          1.000000\n",
       "75%          2.000000\n",
       "max         35.000000\n",
       "Name: DOCUMENTO, dtype: float64"
      ]
     },
     "execution_count": 16,
     "metadata": {},
     "output_type": "execute_result"
    }
   ],
   "source": [
    "df.query('SERVIÇO == \"Exame\" and MUNICÍPIODERESIDÊNCIA == \"SAO JOSE\"').DOCUMENTO.value_counts().describe()"
   ]
  },
  {
   "cell_type": "code",
   "execution_count": 17,
   "metadata": {},
   "outputs": [
    {
     "data": {
      "text/plain": [
       "count    20505.000000\n",
       "mean         2.807949\n",
       "std          2.959257\n",
       "min          1.000000\n",
       "25%          1.000000\n",
       "50%          2.000000\n",
       "75%          4.000000\n",
       "max         35.000000\n",
       "Name: DOCUMENTO, dtype: float64"
      ]
     },
     "execution_count": 17,
     "metadata": {},
     "output_type": "execute_result"
    }
   ],
   "source": [
    "df.query('SERVIÇO == \"Exame\" and MUNICÍPIODERESIDÊNCIA == \"BLUMENAU\"').DOCUMENTO.value_counts().describe()"
   ]
  },
  {
   "cell_type": "code",
   "execution_count": 18,
   "metadata": {},
   "outputs": [
    {
     "data": {
      "text/plain": [
       "count    18393.000000\n",
       "mean         3.030338\n",
       "std          3.800691\n",
       "min          1.000000\n",
       "25%          1.000000\n",
       "50%          2.000000\n",
       "75%          3.000000\n",
       "max         37.000000\n",
       "Name: DOCUMENTO, dtype: float64"
      ]
     },
     "execution_count": 18,
     "metadata": {},
     "output_type": "execute_result"
    }
   ],
   "source": [
    "df.query('SERVIÇO == \"Exame\" and MUNICÍPIODERESIDÊNCIA == \"BIGUACU\"').DOCUMENTO.value_counts().describe()"
   ]
  },
  {
   "cell_type": "code",
   "execution_count": 19,
   "metadata": {},
   "outputs": [
    {
     "data": {
      "text/plain": [
       "count    28094.000000\n",
       "mean         1.632769\n",
       "std          1.789597\n",
       "min          1.000000\n",
       "25%          1.000000\n",
       "50%          1.000000\n",
       "75%          2.000000\n",
       "max         36.000000\n",
       "Name: DOCUMENTO, dtype: float64"
      ]
     },
     "execution_count": 19,
     "metadata": {},
     "output_type": "execute_result"
    }
   ],
   "source": [
    "df.query('SERVIÇO == \"Exame\" and MUNICÍPIODERESIDÊNCIA == \"FLORIANOPOLIS\"').DOCUMENTO.value_counts().describe()"
   ]
  },
  {
   "cell_type": "markdown",
   "metadata": {},
   "source": [
    "# pacientes com muitos exames"
   ]
  },
  {
   "cell_type": "code",
   "execution_count": 20,
   "metadata": {
    "scrolled": true
   },
   "outputs": [
    {
     "data": {
      "text/plain": [
       "704207709501384    90\n",
       "700603418445267    80\n",
       "700000291920300    80\n",
       "700505394201153    78\n",
       "702005327186289    77\n",
       "707507227682290    75\n",
       "700000481327406    73\n",
       "705009265166954    72\n",
       "702505393010938    72\n",
       "704300595817291    71\n",
       "700401459979541    71\n",
       "700000538700909    70\n",
       "708402202548668    70\n",
       "708507058823680    70\n",
       "706209092555063    70\n",
       "Name: DOCUMENTO, dtype: int64"
      ]
     },
     "execution_count": 20,
     "metadata": {},
     "output_type": "execute_result"
    }
   ],
   "source": [
    "df.query('SERVIÇO == \"Exame\" and MUNICÍPIODERESIDÊNCIA == \"PALHOCA\"').DOCUMENTO.value_counts().head(15)"
   ]
  },
  {
   "cell_type": "markdown",
   "metadata": {},
   "source": [
    "As solicitações acontecem no mesmo timestamp, possivelmente indicando um bug no sistema. Os exames entram na fila de CNES executantes diferentes"
   ]
  },
  {
   "cell_type": "code",
   "execution_count": 21,
   "metadata": {},
   "outputs": [
    {
     "data": {
      "text/html": [
       "<div>\n",
       "<style>\n",
       "    .dataframe thead tr:only-child th {\n",
       "        text-align: right;\n",
       "    }\n",
       "\n",
       "    .dataframe thead th {\n",
       "        text-align: left;\n",
       "    }\n",
       "\n",
       "    .dataframe tbody tr th {\n",
       "        vertical-align: top;\n",
       "    }\n",
       "</style>\n",
       "<table border=\"1\" class=\"dataframe\">\n",
       "  <thead>\n",
       "    <tr style=\"text-align: right;\">\n",
       "      <th></th>\n",
       "      <th>DESCRIÇÃODOPROCEDIMENTO</th>\n",
       "      <th>DATADASOLICITAÇÃO</th>\n",
       "      <th>CENTRALDEREGULAÇÃO/RESPONSÁVEL</th>\n",
       "      <th>POSIÇÃO</th>\n",
       "      <th>CNESDACENTRALEXECUTANTE</th>\n",
       "      <th>CNESDAUNIDADESOLICITANTE</th>\n",
       "    </tr>\n",
       "  </thead>\n",
       "  <tbody>\n",
       "    <tr>\n",
       "      <th>264552</th>\n",
       "      <td>25 HIDROXIVITAMINA D (25 OHD)</td>\n",
       "      <td>23/08/2017 11:07:41</td>\n",
       "      <td>CENTRO DE SAUDE VILA NOVA</td>\n",
       "      <td>6519</td>\n",
       "      <td>6082351</td>\n",
       "      <td>7124619</td>\n",
       "    </tr>\n",
       "    <tr>\n",
       "      <th>1189115</th>\n",
       "      <td>25 HIDROXIVITAMINA D (25 OHD)</td>\n",
       "      <td>23/08/2017 11:07:41</td>\n",
       "      <td>CENTRO DE SAUDE VILA NOVA</td>\n",
       "      <td>4990</td>\n",
       "      <td>6939392</td>\n",
       "      <td>7124619</td>\n",
       "    </tr>\n",
       "    <tr>\n",
       "      <th>300253</th>\n",
       "      <td>ACIDO FOLICO</td>\n",
       "      <td>29/09/2017 13:13:39</td>\n",
       "      <td>CENTRO DE SAUDE VILA NOVA</td>\n",
       "      <td>10017</td>\n",
       "      <td>6082351</td>\n",
       "      <td>7124619</td>\n",
       "    </tr>\n",
       "    <tr>\n",
       "      <th>1224544</th>\n",
       "      <td>ACIDO FOLICO</td>\n",
       "      <td>29/09/2017 13:13:39</td>\n",
       "      <td>CENTRO DE SAUDE VILA NOVA</td>\n",
       "      <td>8466</td>\n",
       "      <td>6939392</td>\n",
       "      <td>7124619</td>\n",
       "    </tr>\n",
       "    <tr>\n",
       "      <th>264515</th>\n",
       "      <td>ACIDO URICO</td>\n",
       "      <td>23/08/2017 11:06:38</td>\n",
       "      <td>CENTRO DE SAUDE VILA NOVA</td>\n",
       "      <td>6515</td>\n",
       "      <td>6082351</td>\n",
       "      <td>7124619</td>\n",
       "    </tr>\n",
       "    <tr>\n",
       "      <th>1189078</th>\n",
       "      <td>ACIDO URICO</td>\n",
       "      <td>23/08/2017 11:06:38</td>\n",
       "      <td>CENTRO DE SAUDE VILA NOVA</td>\n",
       "      <td>4986</td>\n",
       "      <td>6939392</td>\n",
       "      <td>7124619</td>\n",
       "    </tr>\n",
       "    <tr>\n",
       "      <th>1189079</th>\n",
       "      <td>ANTIBIOGRAMA</td>\n",
       "      <td>23/08/2017 11:06:38</td>\n",
       "      <td>CENTRO DE SAUDE VILA NOVA</td>\n",
       "      <td>4986</td>\n",
       "      <td>6939392</td>\n",
       "      <td>7124619</td>\n",
       "    </tr>\n",
       "    <tr>\n",
       "      <th>264516</th>\n",
       "      <td>ANTIBIOGRAMA</td>\n",
       "      <td>23/08/2017 11:06:38</td>\n",
       "      <td>CENTRO DE SAUDE VILA NOVA</td>\n",
       "      <td>6515</td>\n",
       "      <td>6082351</td>\n",
       "      <td>7124619</td>\n",
       "    </tr>\n",
       "    <tr>\n",
       "      <th>300254</th>\n",
       "      <td>ANTIPEROXIDASE /ANTI TPO</td>\n",
       "      <td>29/09/2017 13:13:39</td>\n",
       "      <td>CENTRO DE SAUDE VILA NOVA</td>\n",
       "      <td>10017</td>\n",
       "      <td>6082351</td>\n",
       "      <td>7124619</td>\n",
       "    </tr>\n",
       "    <tr>\n",
       "      <th>1224545</th>\n",
       "      <td>ANTIPEROXIDASE /ANTI TPO</td>\n",
       "      <td>29/09/2017 13:13:39</td>\n",
       "      <td>CENTRO DE SAUDE VILA NOVA</td>\n",
       "      <td>8466</td>\n",
       "      <td>6939392</td>\n",
       "      <td>7124619</td>\n",
       "    </tr>\n",
       "  </tbody>\n",
       "</table>\n",
       "</div>"
      ],
      "text/plain": [
       "               DESCRIÇÃODOPROCEDIMENTO    DATADASOLICITAÇÃO  \\\n",
       "264552   25 HIDROXIVITAMINA D (25 OHD)  23/08/2017 11:07:41   \n",
       "1189115  25 HIDROXIVITAMINA D (25 OHD)  23/08/2017 11:07:41   \n",
       "300253                    ACIDO FOLICO  29/09/2017 13:13:39   \n",
       "1224544                   ACIDO FOLICO  29/09/2017 13:13:39   \n",
       "264515                     ACIDO URICO  23/08/2017 11:06:38   \n",
       "1189078                    ACIDO URICO  23/08/2017 11:06:38   \n",
       "1189079                   ANTIBIOGRAMA  23/08/2017 11:06:38   \n",
       "264516                    ANTIBIOGRAMA  23/08/2017 11:06:38   \n",
       "300254        ANTIPEROXIDASE /ANTI TPO  29/09/2017 13:13:39   \n",
       "1224545       ANTIPEROXIDASE /ANTI TPO  29/09/2017 13:13:39   \n",
       "\n",
       "        CENTRALDEREGULAÇÃO/RESPONSÁVEL  POSIÇÃO CNESDACENTRALEXECUTANTE  \\\n",
       "264552       CENTRO DE SAUDE VILA NOVA     6519                 6082351   \n",
       "1189115      CENTRO DE SAUDE VILA NOVA     4990                 6939392   \n",
       "300253       CENTRO DE SAUDE VILA NOVA    10017                 6082351   \n",
       "1224544      CENTRO DE SAUDE VILA NOVA     8466                 6939392   \n",
       "264515       CENTRO DE SAUDE VILA NOVA     6515                 6082351   \n",
       "1189078      CENTRO DE SAUDE VILA NOVA     4986                 6939392   \n",
       "1189079      CENTRO DE SAUDE VILA NOVA     4986                 6939392   \n",
       "264516       CENTRO DE SAUDE VILA NOVA     6515                 6082351   \n",
       "300254       CENTRO DE SAUDE VILA NOVA    10017                 6082351   \n",
       "1224545      CENTRO DE SAUDE VILA NOVA     8466                 6939392   \n",
       "\n",
       "         CNESDAUNIDADESOLICITANTE  \n",
       "264552                    7124619  \n",
       "1189115                   7124619  \n",
       "300253                    7124619  \n",
       "1224544                   7124619  \n",
       "264515                    7124619  \n",
       "1189078                   7124619  \n",
       "1189079                   7124619  \n",
       "264516                    7124619  \n",
       "300254                    7124619  \n",
       "1224545                   7124619  "
      ]
     },
     "execution_count": 21,
     "metadata": {},
     "output_type": "execute_result"
    }
   ],
   "source": [
    "df.query('DOCUMENTO == 704207709501384')[['DESCRIÇÃODOPROCEDIMENTO','DATADASOLICITAÇÃO', 'CENTRALDEREGULAÇÃO/RESPONSÁVEL', 'POSIÇÃO', 'CNESDACENTRALEXECUTANTE', 'CNESDAUNIDADESOLICITANTE']].sort_values(by='DESCRIÇÃODOPROCEDIMENTO').head(10)"
   ]
  },
  {
   "cell_type": "code",
   "execution_count": 22,
   "metadata": {},
   "outputs": [
    {
     "data": {
      "text/html": [
       "<div>\n",
       "<style>\n",
       "    .dataframe thead tr:only-child th {\n",
       "        text-align: right;\n",
       "    }\n",
       "\n",
       "    .dataframe thead th {\n",
       "        text-align: left;\n",
       "    }\n",
       "\n",
       "    .dataframe tbody tr th {\n",
       "        vertical-align: top;\n",
       "    }\n",
       "</style>\n",
       "<table border=\"1\" class=\"dataframe\">\n",
       "  <thead>\n",
       "    <tr style=\"text-align: right;\">\n",
       "      <th></th>\n",
       "      <th>DESCRIÇÃODOPROCEDIMENTO</th>\n",
       "      <th>DATADASOLICITAÇÃO</th>\n",
       "      <th>CENTRALDEREGULAÇÃO/RESPONSÁVEL</th>\n",
       "      <th>POSIÇÃO</th>\n",
       "      <th>CNESDACENTRALEXECUTANTE</th>\n",
       "      <th>CNESDAUNIDADESOLICITANTE</th>\n",
       "    </tr>\n",
       "  </thead>\n",
       "  <tbody>\n",
       "    <tr>\n",
       "      <th>194548</th>\n",
       "      <td>25 HIDROXIVITAMINA D (25 OHD)</td>\n",
       "      <td>18/04/2017 17:04:52</td>\n",
       "      <td>CEAP CENTRO ESPECIALIZADO EM ACONSELHAMENTO E ...</td>\n",
       "      <td>339</td>\n",
       "      <td>6082351</td>\n",
       "      <td>5969018</td>\n",
       "    </tr>\n",
       "    <tr>\n",
       "      <th>1134084</th>\n",
       "      <td>25 HIDROXIVITAMINA D (25 OHD)</td>\n",
       "      <td>18/04/2017 17:04:52</td>\n",
       "      <td>CEAP CENTRO ESPECIALIZADO EM ACONSELHAMENTO E ...</td>\n",
       "      <td>295</td>\n",
       "      <td>6939392</td>\n",
       "      <td>5969018</td>\n",
       "    </tr>\n",
       "    <tr>\n",
       "      <th>194549</th>\n",
       "      <td>ACIDO URICO</td>\n",
       "      <td>18/04/2017 17:04:52</td>\n",
       "      <td>CEAP CENTRO ESPECIALIZADO EM ACONSELHAMENTO E ...</td>\n",
       "      <td>339</td>\n",
       "      <td>6082351</td>\n",
       "      <td>5969018</td>\n",
       "    </tr>\n",
       "    <tr>\n",
       "      <th>1134085</th>\n",
       "      <td>ACIDO URICO</td>\n",
       "      <td>18/04/2017 17:04:52</td>\n",
       "      <td>CEAP CENTRO ESPECIALIZADO EM ACONSELHAMENTO E ...</td>\n",
       "      <td>295</td>\n",
       "      <td>6939392</td>\n",
       "      <td>5969018</td>\n",
       "    </tr>\n",
       "    <tr>\n",
       "      <th>194550</th>\n",
       "      <td>AMILASE</td>\n",
       "      <td>18/04/2017 17:04:52</td>\n",
       "      <td>CEAP CENTRO ESPECIALIZADO EM ACONSELHAMENTO E ...</td>\n",
       "      <td>339</td>\n",
       "      <td>6082351</td>\n",
       "      <td>5969018</td>\n",
       "    </tr>\n",
       "    <tr>\n",
       "      <th>1134086</th>\n",
       "      <td>AMILASE</td>\n",
       "      <td>18/04/2017 17:04:52</td>\n",
       "      <td>CEAP CENTRO ESPECIALIZADO EM ACONSELHAMENTO E ...</td>\n",
       "      <td>295</td>\n",
       "      <td>6939392</td>\n",
       "      <td>5969018</td>\n",
       "    </tr>\n",
       "    <tr>\n",
       "      <th>1134105</th>\n",
       "      <td>ANTI HBC - IGG ANTICORPOS IGG CONTRA ANTIGENO ...</td>\n",
       "      <td>18/04/2017 17:27:57</td>\n",
       "      <td>CEAP CENTRO ESPECIALIZADO EM ACONSELHAMENTO E ...</td>\n",
       "      <td>296</td>\n",
       "      <td>6939392</td>\n",
       "      <td>5969018</td>\n",
       "    </tr>\n",
       "    <tr>\n",
       "      <th>194569</th>\n",
       "      <td>ANTI HBC - IGG ANTICORPOS IGG CONTRA ANTIGENO ...</td>\n",
       "      <td>18/04/2017 17:27:57</td>\n",
       "      <td>CEAP CENTRO ESPECIALIZADO EM ACONSELHAMENTO E ...</td>\n",
       "      <td>340</td>\n",
       "      <td>6082351</td>\n",
       "      <td>5969018</td>\n",
       "    </tr>\n",
       "    <tr>\n",
       "      <th>1134106</th>\n",
       "      <td>ANTI HBC - IGM ANTICORPOS IGM CONTRA ANTIGENO ...</td>\n",
       "      <td>18/04/2017 17:27:57</td>\n",
       "      <td>CEAP CENTRO ESPECIALIZADO EM ACONSELHAMENTO E ...</td>\n",
       "      <td>296</td>\n",
       "      <td>6939392</td>\n",
       "      <td>5969018</td>\n",
       "    </tr>\n",
       "    <tr>\n",
       "      <th>194570</th>\n",
       "      <td>ANTI HBC - IGM ANTICORPOS IGM CONTRA ANTIGENO ...</td>\n",
       "      <td>18/04/2017 17:27:57</td>\n",
       "      <td>CEAP CENTRO ESPECIALIZADO EM ACONSELHAMENTO E ...</td>\n",
       "      <td>340</td>\n",
       "      <td>6082351</td>\n",
       "      <td>5969018</td>\n",
       "    </tr>\n",
       "  </tbody>\n",
       "</table>\n",
       "</div>"
      ],
      "text/plain": [
       "                                   DESCRIÇÃODOPROCEDIMENTO  \\\n",
       "194548                       25 HIDROXIVITAMINA D (25 OHD)   \n",
       "1134084                      25 HIDROXIVITAMINA D (25 OHD)   \n",
       "194549                                         ACIDO URICO   \n",
       "1134085                                        ACIDO URICO   \n",
       "194550                                             AMILASE   \n",
       "1134086                                            AMILASE   \n",
       "1134105  ANTI HBC - IGG ANTICORPOS IGG CONTRA ANTIGENO ...   \n",
       "194569   ANTI HBC - IGG ANTICORPOS IGG CONTRA ANTIGENO ...   \n",
       "1134106  ANTI HBC - IGM ANTICORPOS IGM CONTRA ANTIGENO ...   \n",
       "194570   ANTI HBC - IGM ANTICORPOS IGM CONTRA ANTIGENO ...   \n",
       "\n",
       "           DATADASOLICITAÇÃO  \\\n",
       "194548   18/04/2017 17:04:52   \n",
       "1134084  18/04/2017 17:04:52   \n",
       "194549   18/04/2017 17:04:52   \n",
       "1134085  18/04/2017 17:04:52   \n",
       "194550   18/04/2017 17:04:52   \n",
       "1134086  18/04/2017 17:04:52   \n",
       "1134105  18/04/2017 17:27:57   \n",
       "194569   18/04/2017 17:27:57   \n",
       "1134106  18/04/2017 17:27:57   \n",
       "194570   18/04/2017 17:27:57   \n",
       "\n",
       "                            CENTRALDEREGULAÇÃO/RESPONSÁVEL  POSIÇÃO  \\\n",
       "194548   CEAP CENTRO ESPECIALIZADO EM ACONSELHAMENTO E ...      339   \n",
       "1134084  CEAP CENTRO ESPECIALIZADO EM ACONSELHAMENTO E ...      295   \n",
       "194549   CEAP CENTRO ESPECIALIZADO EM ACONSELHAMENTO E ...      339   \n",
       "1134085  CEAP CENTRO ESPECIALIZADO EM ACONSELHAMENTO E ...      295   \n",
       "194550   CEAP CENTRO ESPECIALIZADO EM ACONSELHAMENTO E ...      339   \n",
       "1134086  CEAP CENTRO ESPECIALIZADO EM ACONSELHAMENTO E ...      295   \n",
       "1134105  CEAP CENTRO ESPECIALIZADO EM ACONSELHAMENTO E ...      296   \n",
       "194569   CEAP CENTRO ESPECIALIZADO EM ACONSELHAMENTO E ...      340   \n",
       "1134106  CEAP CENTRO ESPECIALIZADO EM ACONSELHAMENTO E ...      296   \n",
       "194570   CEAP CENTRO ESPECIALIZADO EM ACONSELHAMENTO E ...      340   \n",
       "\n",
       "        CNESDACENTRALEXECUTANTE  CNESDAUNIDADESOLICITANTE  \n",
       "194548                  6082351                   5969018  \n",
       "1134084                 6939392                   5969018  \n",
       "194549                  6082351                   5969018  \n",
       "1134085                 6939392                   5969018  \n",
       "194550                  6082351                   5969018  \n",
       "1134086                 6939392                   5969018  \n",
       "1134105                 6939392                   5969018  \n",
       "194569                  6082351                   5969018  \n",
       "1134106                 6939392                   5969018  \n",
       "194570                  6082351                   5969018  "
      ]
     },
     "execution_count": 22,
     "metadata": {},
     "output_type": "execute_result"
    }
   ],
   "source": [
    "df.query('DOCUMENTO == 700603418445267')[['DESCRIÇÃODOPROCEDIMENTO','DATADASOLICITAÇÃO', 'CENTRALDEREGULAÇÃO/RESPONSÁVEL', 'POSIÇÃO', 'CNESDACENTRALEXECUTANTE', 'CNESDAUNIDADESOLICITANTE']].sort_values(by='DESCRIÇÃODOPROCEDIMENTO').head(10)"
   ]
  },
  {
   "cell_type": "markdown",
   "metadata": {},
   "source": [
    "# quantificando a deduplicação"
   ]
  },
  {
   "cell_type": "markdown",
   "metadata": {},
   "source": [
    "Se tirássemos todas as duplicações, a fila teria uma redução de 17% nos registros (20% exames, 11% consultas e 1% cirurgias)."
   ]
  },
  {
   "cell_type": "code",
   "execution_count": 24,
   "metadata": {
    "collapsed": true
   },
   "outputs": [],
   "source": [
    "def deduplicate_stats(query=None):\n",
    "    if query:\n",
    "        df_tmp = df.query(query)\n",
    "    else:\n",
    "        df_tmp = df\n",
    "    total_rows = len(df_tmp)\n",
    "    unique_rows = len(df_tmp.groupby(['DOCUMENTO', 'DESCRIÇÃODOPROCEDIMENTO']))\n",
    "    unique_rows_same_date = len(df_tmp.groupby(['DOCUMENTO', 'DESCRIÇÃODOPROCEDIMENTO', 'DATADASOLICITAÇÃO']))\n",
    "    reducao_fila = (total_rows - unique_rows) / total_rows\n",
    "    print('           registros na fila:', total_rows)\n",
    "    print('    registros únicos na fila:', unique_rows)\n",
    "    print('          duplicados (total):', total_rows - unique_rows)\n",
    "    print('duplicados (mesmo timestamp):', total_rows - unique_rows_same_date)\n",
    "    print('    redução com deduplicação:', int(100*reducao_fila), '%')"
   ]
  },
  {
   "cell_type": "code",
   "execution_count": 25,
   "metadata": {},
   "outputs": [
    {
     "name": "stdout",
     "output_type": "stream",
     "text": [
      "           registros na fila: 1306967\n",
      "    registros únicos na fila: 1080625\n",
      "          duplicados (total): 226342\n",
      "duplicados (mesmo timestamp): 222124\n",
      "    redução com deduplicação: 17 %\n"
     ]
    }
   ],
   "source": [
    "# geral\n",
    "deduplicate_stats()"
   ]
  },
  {
   "cell_type": "code",
   "execution_count": 26,
   "metadata": {},
   "outputs": [
    {
     "name": "stdout",
     "output_type": "stream",
     "text": [
      "           registros na fila: 832611\n",
      "    registros únicos na fila: 658907\n",
      "          duplicados (total): 173704\n",
      "duplicados (mesmo timestamp): 171493\n",
      "    redução com deduplicação: 20 %\n"
     ]
    }
   ],
   "source": [
    "deduplicate_stats('SERVIÇO == \"Exame\"')"
   ]
  },
  {
   "cell_type": "code",
   "execution_count": 27,
   "metadata": {},
   "outputs": [
    {
     "name": "stdout",
     "output_type": "stream",
     "text": [
      "           registros na fila: 451122\n",
      "    registros únicos na fila: 398828\n",
      "          duplicados (total): 52294\n",
      "duplicados (mesmo timestamp): 50405\n",
      "    redução com deduplicação: 11 %\n"
     ]
    }
   ],
   "source": [
    "deduplicate_stats('SERVIÇO == \"Consulta\"')"
   ]
  },
  {
   "cell_type": "code",
   "execution_count": 28,
   "metadata": {},
   "outputs": [
    {
     "name": "stdout",
     "output_type": "stream",
     "text": [
      "           registros na fila: 23234\n",
      "    registros únicos na fila: 22890\n",
      "          duplicados (total): 344\n",
      "duplicados (mesmo timestamp): 226\n",
      "    redução com deduplicação: 1 %\n"
     ]
    }
   ],
   "source": [
    "deduplicate_stats('SERVIÇO == \"Cirurgia eletiva\"')"
   ]
  },
  {
   "cell_type": "markdown",
   "metadata": {},
   "source": [
    "### deduplicação por município"
   ]
  },
  {
   "cell_type": "code",
   "execution_count": 29,
   "metadata": {},
   "outputs": [
    {
     "name": "stdout",
     "output_type": "stream",
     "text": [
      "           registros na fila: 384253\n",
      "    registros únicos na fila: 223579\n",
      "          duplicados (total): 160674\n",
      "duplicados (mesmo timestamp): 160305\n",
      "    redução com deduplicação: 41 %\n"
     ]
    }
   ],
   "source": [
    "deduplicate_stats('MUNICÍPIODERESIDÊNCIA == \"PALHOCA\"')"
   ]
  },
  {
   "cell_type": "code",
   "execution_count": 30,
   "metadata": {},
   "outputs": [
    {
     "name": "stdout",
     "output_type": "stream",
     "text": [
      "           registros na fila: 347913\n",
      "    registros únicos na fila: 199099\n",
      "          duplicados (total): 148814\n",
      "duplicados (mesmo timestamp): 148594\n",
      "    redução com deduplicação: 42 %\n"
     ]
    }
   ],
   "source": [
    "deduplicate_stats('SERVIÇO == \"Exame\" and MUNICÍPIODERESIDÊNCIA == \"PALHOCA\"')"
   ]
  },
  {
   "cell_type": "code",
   "execution_count": 31,
   "metadata": {},
   "outputs": [
    {
     "name": "stdout",
     "output_type": "stream",
     "text": [
      "           registros na fila: 36313\n",
      "    registros únicos na fila: 24453\n",
      "          duplicados (total): 11860\n",
      "duplicados (mesmo timestamp): 11711\n",
      "    redução com deduplicação: 32 %\n"
     ]
    }
   ],
   "source": [
    "deduplicate_stats('SERVIÇO == \"Consulta\" and MUNICÍPIODERESIDÊNCIA == \"PALHOCA\"')"
   ]
  },
  {
   "cell_type": "code",
   "execution_count": 32,
   "metadata": {},
   "outputs": [
    {
     "name": "stdout",
     "output_type": "stream",
     "text": [
      "           registros na fila: 102497\n",
      "    registros únicos na fila: 101021\n",
      "          duplicados (total): 1476\n",
      "duplicados (mesmo timestamp): 576\n",
      "    redução com deduplicação: 1 %\n"
     ]
    }
   ],
   "source": [
    "deduplicate_stats('SERVIÇO == \"Exame\" and MUNICÍPIODERESIDÊNCIA == \"SAO JOSE\"')"
   ]
  },
  {
   "cell_type": "code",
   "execution_count": 33,
   "metadata": {},
   "outputs": [
    {
     "name": "stdout",
     "output_type": "stream",
     "text": [
      "           registros na fila: 57577\n",
      "    registros únicos na fila: 57535\n",
      "          duplicados (total): 42\n",
      "duplicados (mesmo timestamp): 24\n",
      "    redução com deduplicação: 0 %\n"
     ]
    }
   ],
   "source": [
    "deduplicate_stats('SERVIÇO == \"Exame\" and MUNICÍPIODERESIDÊNCIA == \"BLUMENAU\"')"
   ]
  },
  {
   "cell_type": "code",
   "execution_count": 34,
   "metadata": {},
   "outputs": [
    {
     "name": "stdout",
     "output_type": "stream",
     "text": [
      "           registros na fila: 26156\n",
      "    registros únicos na fila: 26139\n",
      "          duplicados (total): 17\n",
      "duplicados (mesmo timestamp): 3\n",
      "    redução com deduplicação: 0 %\n"
     ]
    }
   ],
   "source": [
    "deduplicate_stats('SERVIÇO == \"Consulta\" and MUNICÍPIODERESIDÊNCIA == \"BLUMENAU\"')"
   ]
  },
  {
   "cell_type": "code",
   "execution_count": 35,
   "metadata": {},
   "outputs": [
    {
     "name": "stdout",
     "output_type": "stream",
     "text": [
      "           registros na fila: 55737\n",
      "    registros únicos na fila: 45188\n",
      "          duplicados (total): 10549\n",
      "duplicados (mesmo timestamp): 10037\n",
      "    redução com deduplicação: 18 %\n"
     ]
    }
   ],
   "source": [
    "deduplicate_stats('SERVIÇO == \"Exame\" and MUNICÍPIODERESIDÊNCIA == \"BIGUACU\"')"
   ]
  },
  {
   "cell_type": "code",
   "execution_count": 36,
   "metadata": {},
   "outputs": [
    {
     "name": "stdout",
     "output_type": "stream",
     "text": [
      "           registros na fila: 22435\n",
      "    registros únicos na fila: 14648\n",
      "          duplicados (total): 7787\n",
      "duplicados (mesmo timestamp): 7705\n",
      "    redução com deduplicação: 34 %\n"
     ]
    }
   ],
   "source": [
    "deduplicate_stats('SERVIÇO == \"Consulta\" and MUNICÍPIODERESIDÊNCIA == \"BIGUACU\"')"
   ]
  },
  {
   "cell_type": "code",
   "execution_count": 37,
   "metadata": {},
   "outputs": [
    {
     "name": "stdout",
     "output_type": "stream",
     "text": [
      "           registros na fila: 45871\n",
      "    registros únicos na fila: 45754\n",
      "          duplicados (total): 117\n",
      "duplicados (mesmo timestamp): 3\n",
      "    redução com deduplicação: 0 %\n"
     ]
    }
   ],
   "source": [
    "deduplicate_stats('SERVIÇO == \"Exame\" and MUNICÍPIODERESIDÊNCIA == \"FLORIANOPOLIS\"')"
   ]
  },
  {
   "cell_type": "code",
   "execution_count": 38,
   "metadata": {},
   "outputs": [
    {
     "name": "stdout",
     "output_type": "stream",
     "text": [
      "           registros na fila: 69684\n",
      "    registros únicos na fila: 67698\n",
      "          duplicados (total): 1986\n",
      "duplicados (mesmo timestamp): 1633\n",
      "    redução com deduplicação: 2 %\n"
     ]
    }
   ],
   "source": [
    "deduplicate_stats('SERVIÇO == \"Consulta\" and MUNICÍPIODERESIDÊNCIA == \"FLORIANOPOLIS\"')"
   ]
  },
  {
   "cell_type": "code",
   "execution_count": 39,
   "metadata": {},
   "outputs": [
    {
     "name": "stdout",
     "output_type": "stream",
     "text": [
      "           registros na fila: 42011\n",
      "    registros únicos na fila: 41479\n",
      "          duplicados (total): 532\n",
      "duplicados (mesmo timestamp): 440\n",
      "    redução com deduplicação: 1 %\n"
     ]
    }
   ],
   "source": [
    "deduplicate_stats('SERVIÇO == \"Exame\" and MUNICÍPIODERESIDÊNCIA == \"BRUSQUE\"')"
   ]
  },
  {
   "cell_type": "code",
   "execution_count": 40,
   "metadata": {},
   "outputs": [
    {
     "name": "stdout",
     "output_type": "stream",
     "text": [
      "           registros na fila: 30321\n",
      "    registros únicos na fila: 30313\n",
      "          duplicados (total): 8\n",
      "duplicados (mesmo timestamp): 1\n",
      "    redução com deduplicação: 0 %\n"
     ]
    }
   ],
   "source": [
    "deduplicate_stats('SERVIÇO == \"Exame\" and MUNICÍPIODERESIDÊNCIA == \"CHAPECO\"')"
   ]
  },
  {
   "cell_type": "code",
   "execution_count": 41,
   "metadata": {},
   "outputs": [
    {
     "name": "stdout",
     "output_type": "stream",
     "text": [
      "           registros na fila: 26435\n",
      "    registros únicos na fila: 22584\n",
      "          duplicados (total): 3851\n",
      "duplicados (mesmo timestamp): 3826\n",
      "    redução com deduplicação: 14 %\n"
     ]
    }
   ],
   "source": [
    "deduplicate_stats('SERVIÇO == \"Exame\" and MUNICÍPIODERESIDÊNCIA == \"CRICIUMA\"')"
   ]
  },
  {
   "cell_type": "code",
   "execution_count": 42,
   "metadata": {},
   "outputs": [
    {
     "name": "stdout",
     "output_type": "stream",
     "text": [
      "           registros na fila: 14941\n",
      "    registros únicos na fila: 14413\n",
      "          duplicados (total): 528\n",
      "duplicados (mesmo timestamp): 422\n",
      "    redução com deduplicação: 3 %\n"
     ]
    }
   ],
   "source": [
    "deduplicate_stats('SERVIÇO == \"Exame\" and MUNICÍPIODERESIDÊNCIA == \"GOVERNADOR CELSO RAMOS\"')"
   ]
  },
  {
   "cell_type": "code",
   "execution_count": 43,
   "metadata": {},
   "outputs": [
    {
     "name": "stdout",
     "output_type": "stream",
     "text": [
      "           registros na fila: 11112\n",
      "    registros únicos na fila: 11111\n",
      "          duplicados (total): 1\n",
      "duplicados (mesmo timestamp): 0\n",
      "    redução com deduplicação: 0 %\n"
     ]
    }
   ],
   "source": [
    "deduplicate_stats('SERVIÇO == \"Exame\" and MUNICÍPIODERESIDÊNCIA == \"JOINVILLE\"')"
   ]
  },
  {
   "cell_type": "code",
   "execution_count": 44,
   "metadata": {},
   "outputs": [
    {
     "name": "stdout",
     "output_type": "stream",
     "text": [
      "           registros na fila: 11091\n",
      "    registros únicos na fila: 10667\n",
      "          duplicados (total): 424\n",
      "duplicados (mesmo timestamp): 381\n",
      "    redução com deduplicação: 3 %\n"
     ]
    }
   ],
   "source": [
    "deduplicate_stats('SERVIÇO == \"Exame\" and MUNICÍPIODERESIDÊNCIA == \"SANTO AMARO DA IMPERATRIZ\"')"
   ]
  },
  {
   "cell_type": "markdown",
   "metadata": {},
   "source": [
    "Como a porcentagem de duplicações varia muito entre municípios (de 0 a 42%), o problema parece estar atrelado à central de agendamento de alguns municípios como Palhoça e Biguaçu."
   ]
  },
  {
   "cell_type": "markdown",
   "metadata": {},
   "source": [
    "### casos de duplicação com timestamps diferentes"
   ]
  },
  {
   "cell_type": "code",
   "execution_count": 45,
   "metadata": {},
   "outputs": [
    {
     "data": {
      "text/html": [
       "<div>\n",
       "<style>\n",
       "    .dataframe thead tr:only-child th {\n",
       "        text-align: right;\n",
       "    }\n",
       "\n",
       "    .dataframe thead th {\n",
       "        text-align: left;\n",
       "    }\n",
       "\n",
       "    .dataframe tbody tr th {\n",
       "        vertical-align: top;\n",
       "    }\n",
       "</style>\n",
       "<table border=\"1\" class=\"dataframe\">\n",
       "  <thead>\n",
       "    <tr style=\"text-align: right;\">\n",
       "      <th></th>\n",
       "      <th></th>\n",
       "      <th>SERVIÇO</th>\n",
       "      <th>CENTRALDEREGULAÇÃO/RESPONSÁVEL</th>\n",
       "      <th>MUNICÍPIODERESIDÊNCIA</th>\n",
       "      <th>POSIÇÃO</th>\n",
       "      <th>TEMPOMÉDIODEESPERA(DIAS)</th>\n",
       "      <th>CLASSIFICAÇÃO</th>\n",
       "      <th>TIPO DA LISTA</th>\n",
       "      <th>DATADASOLICITAÇÃO</th>\n",
       "      <th>CIDADÃO</th>\n",
       "      <th>NASCIMENTO</th>\n",
       "      <th>CNES DA CENTRAL SOLICITANTE</th>\n",
       "      <th>CNESDACENTRALEXECUTANTE</th>\n",
       "      <th>CNESDAUNIDADESOLICITANTE</th>\n",
       "      <th>CÓDIGO SIGTAP DO PROCEDIMENTO</th>\n",
       "      <th>DESCRIÇÃO DO GRUPO DO PROCEDIMENTO</th>\n",
       "    </tr>\n",
       "    <tr>\n",
       "      <th>DOCUMENTO</th>\n",
       "      <th>DESCRIÇÃODOPROCEDIMENTO</th>\n",
       "      <th></th>\n",
       "      <th></th>\n",
       "      <th></th>\n",
       "      <th></th>\n",
       "      <th></th>\n",
       "      <th></th>\n",
       "      <th></th>\n",
       "      <th></th>\n",
       "      <th></th>\n",
       "      <th></th>\n",
       "      <th></th>\n",
       "      <th></th>\n",
       "      <th></th>\n",
       "      <th></th>\n",
       "      <th></th>\n",
       "    </tr>\n",
       "  </thead>\n",
       "  <tbody>\n",
       "    <tr>\n",
       "      <th>102565283890005</th>\n",
       "      <th>CONSULTA EM ORTOPEDIA - JOELHO</th>\n",
       "      <td>2</td>\n",
       "      <td>2</td>\n",
       "      <td>2</td>\n",
       "      <td>2</td>\n",
       "      <td>2</td>\n",
       "      <td>2</td>\n",
       "      <td>2</td>\n",
       "      <td>2</td>\n",
       "      <td>2</td>\n",
       "      <td>0</td>\n",
       "      <td>2</td>\n",
       "      <td>2</td>\n",
       "      <td>2</td>\n",
       "      <td>2</td>\n",
       "      <td>0</td>\n",
       "    </tr>\n",
       "    <tr>\n",
       "      <th>106406250770005</th>\n",
       "      <th>CONSULTA EM ORTOPEDIA (OMBROS)</th>\n",
       "      <td>4</td>\n",
       "      <td>4</td>\n",
       "      <td>4</td>\n",
       "      <td>4</td>\n",
       "      <td>4</td>\n",
       "      <td>4</td>\n",
       "      <td>4</td>\n",
       "      <td>4</td>\n",
       "      <td>4</td>\n",
       "      <td>0</td>\n",
       "      <td>4</td>\n",
       "      <td>4</td>\n",
       "      <td>4</td>\n",
       "      <td>4</td>\n",
       "      <td>0</td>\n",
       "    </tr>\n",
       "    <tr>\n",
       "      <th>106494974700008</th>\n",
       "      <th>CONSULTA EM ORTOPEDIA - COLUNA</th>\n",
       "      <td>2</td>\n",
       "      <td>2</td>\n",
       "      <td>2</td>\n",
       "      <td>2</td>\n",
       "      <td>2</td>\n",
       "      <td>2</td>\n",
       "      <td>2</td>\n",
       "      <td>2</td>\n",
       "      <td>2</td>\n",
       "      <td>0</td>\n",
       "      <td>2</td>\n",
       "      <td>2</td>\n",
       "      <td>2</td>\n",
       "      <td>2</td>\n",
       "      <td>0</td>\n",
       "    </tr>\n",
       "    <tr>\n",
       "      <th>107850981400007</th>\n",
       "      <th>CONSULTA EM ORTOPEDIA (OMBROS)</th>\n",
       "      <td>2</td>\n",
       "      <td>2</td>\n",
       "      <td>2</td>\n",
       "      <td>2</td>\n",
       "      <td>2</td>\n",
       "      <td>2</td>\n",
       "      <td>2</td>\n",
       "      <td>2</td>\n",
       "      <td>2</td>\n",
       "      <td>0</td>\n",
       "      <td>2</td>\n",
       "      <td>2</td>\n",
       "      <td>2</td>\n",
       "      <td>2</td>\n",
       "      <td>0</td>\n",
       "    </tr>\n",
       "    <tr>\n",
       "      <th>107972018630003</th>\n",
       "      <th>CONSULTA EM CIRURGIA GERAL - ADULTO</th>\n",
       "      <td>2</td>\n",
       "      <td>2</td>\n",
       "      <td>2</td>\n",
       "      <td>2</td>\n",
       "      <td>2</td>\n",
       "      <td>2</td>\n",
       "      <td>2</td>\n",
       "      <td>2</td>\n",
       "      <td>2</td>\n",
       "      <td>0</td>\n",
       "      <td>2</td>\n",
       "      <td>2</td>\n",
       "      <td>2</td>\n",
       "      <td>2</td>\n",
       "      <td>0</td>\n",
       "    </tr>\n",
       "    <tr>\n",
       "      <th>108641967650000</th>\n",
       "      <th>CONSULTA EM CIRURGIA GERAL - ADULTO</th>\n",
       "      <td>2</td>\n",
       "      <td>2</td>\n",
       "      <td>2</td>\n",
       "      <td>2</td>\n",
       "      <td>2</td>\n",
       "      <td>2</td>\n",
       "      <td>2</td>\n",
       "      <td>2</td>\n",
       "      <td>2</td>\n",
       "      <td>0</td>\n",
       "      <td>2</td>\n",
       "      <td>2</td>\n",
       "      <td>2</td>\n",
       "      <td>2</td>\n",
       "      <td>0</td>\n",
       "    </tr>\n",
       "    <tr>\n",
       "      <th>120268161090008</th>\n",
       "      <th>CONSULTA EM ORTOPEDIA - JOELHO</th>\n",
       "      <td>3</td>\n",
       "      <td>3</td>\n",
       "      <td>3</td>\n",
       "      <td>3</td>\n",
       "      <td>3</td>\n",
       "      <td>3</td>\n",
       "      <td>3</td>\n",
       "      <td>3</td>\n",
       "      <td>3</td>\n",
       "      <td>0</td>\n",
       "      <td>3</td>\n",
       "      <td>3</td>\n",
       "      <td>3</td>\n",
       "      <td>3</td>\n",
       "      <td>0</td>\n",
       "    </tr>\n",
       "    <tr>\n",
       "      <th>120522676990000</th>\n",
       "      <th>CONSULTA EM ORTOPEDIA - COLUNA</th>\n",
       "      <td>2</td>\n",
       "      <td>2</td>\n",
       "      <td>2</td>\n",
       "      <td>2</td>\n",
       "      <td>2</td>\n",
       "      <td>2</td>\n",
       "      <td>2</td>\n",
       "      <td>2</td>\n",
       "      <td>2</td>\n",
       "      <td>0</td>\n",
       "      <td>2</td>\n",
       "      <td>2</td>\n",
       "      <td>2</td>\n",
       "      <td>2</td>\n",
       "      <td>0</td>\n",
       "    </tr>\n",
       "    <tr>\n",
       "      <th>120788847680004</th>\n",
       "      <th>CONSULTA EM ORTOPEDIA (OMBROS)</th>\n",
       "      <td>2</td>\n",
       "      <td>2</td>\n",
       "      <td>2</td>\n",
       "      <td>2</td>\n",
       "      <td>2</td>\n",
       "      <td>2</td>\n",
       "      <td>2</td>\n",
       "      <td>2</td>\n",
       "      <td>2</td>\n",
       "      <td>0</td>\n",
       "      <td>2</td>\n",
       "      <td>2</td>\n",
       "      <td>2</td>\n",
       "      <td>2</td>\n",
       "      <td>0</td>\n",
       "    </tr>\n",
       "    <tr>\n",
       "      <th>121472585140003</th>\n",
       "      <th>CONSULTA EM ORTOPEDIA - COLUNA</th>\n",
       "      <td>2</td>\n",
       "      <td>2</td>\n",
       "      <td>2</td>\n",
       "      <td>2</td>\n",
       "      <td>2</td>\n",
       "      <td>2</td>\n",
       "      <td>2</td>\n",
       "      <td>2</td>\n",
       "      <td>2</td>\n",
       "      <td>0</td>\n",
       "      <td>2</td>\n",
       "      <td>2</td>\n",
       "      <td>2</td>\n",
       "      <td>2</td>\n",
       "      <td>0</td>\n",
       "    </tr>\n",
       "  </tbody>\n",
       "</table>\n",
       "</div>"
      ],
      "text/plain": [
       "                                                     SERVIÇO  \\\n",
       "DOCUMENTO       DESCRIÇÃODOPROCEDIMENTO                        \n",
       "102565283890005 CONSULTA EM ORTOPEDIA - JOELHO             2   \n",
       "106406250770005 CONSULTA EM ORTOPEDIA (OMBROS)             4   \n",
       "106494974700008 CONSULTA EM ORTOPEDIA - COLUNA             2   \n",
       "107850981400007 CONSULTA EM ORTOPEDIA (OMBROS)             2   \n",
       "107972018630003 CONSULTA EM CIRURGIA GERAL - ADULTO        2   \n",
       "108641967650000 CONSULTA EM CIRURGIA GERAL - ADULTO        2   \n",
       "120268161090008 CONSULTA EM ORTOPEDIA - JOELHO             3   \n",
       "120522676990000 CONSULTA EM ORTOPEDIA - COLUNA             2   \n",
       "120788847680004 CONSULTA EM ORTOPEDIA (OMBROS)             2   \n",
       "121472585140003 CONSULTA EM ORTOPEDIA - COLUNA             2   \n",
       "\n",
       "                                                     CENTRALDEREGULAÇÃO/RESPONSÁVEL  \\\n",
       "DOCUMENTO       DESCRIÇÃODOPROCEDIMENTO                                               \n",
       "102565283890005 CONSULTA EM ORTOPEDIA - JOELHO                                    2   \n",
       "106406250770005 CONSULTA EM ORTOPEDIA (OMBROS)                                    4   \n",
       "106494974700008 CONSULTA EM ORTOPEDIA - COLUNA                                    2   \n",
       "107850981400007 CONSULTA EM ORTOPEDIA (OMBROS)                                    2   \n",
       "107972018630003 CONSULTA EM CIRURGIA GERAL - ADULTO                               2   \n",
       "108641967650000 CONSULTA EM CIRURGIA GERAL - ADULTO                               2   \n",
       "120268161090008 CONSULTA EM ORTOPEDIA - JOELHO                                    3   \n",
       "120522676990000 CONSULTA EM ORTOPEDIA - COLUNA                                    2   \n",
       "120788847680004 CONSULTA EM ORTOPEDIA (OMBROS)                                    2   \n",
       "121472585140003 CONSULTA EM ORTOPEDIA - COLUNA                                    2   \n",
       "\n",
       "                                                     MUNICÍPIODERESIDÊNCIA  \\\n",
       "DOCUMENTO       DESCRIÇÃODOPROCEDIMENTO                                      \n",
       "102565283890005 CONSULTA EM ORTOPEDIA - JOELHO                           2   \n",
       "106406250770005 CONSULTA EM ORTOPEDIA (OMBROS)                           4   \n",
       "106494974700008 CONSULTA EM ORTOPEDIA - COLUNA                           2   \n",
       "107850981400007 CONSULTA EM ORTOPEDIA (OMBROS)                           2   \n",
       "107972018630003 CONSULTA EM CIRURGIA GERAL - ADULTO                      2   \n",
       "108641967650000 CONSULTA EM CIRURGIA GERAL - ADULTO                      2   \n",
       "120268161090008 CONSULTA EM ORTOPEDIA - JOELHO                           3   \n",
       "120522676990000 CONSULTA EM ORTOPEDIA - COLUNA                           2   \n",
       "120788847680004 CONSULTA EM ORTOPEDIA (OMBROS)                           2   \n",
       "121472585140003 CONSULTA EM ORTOPEDIA - COLUNA                           2   \n",
       "\n",
       "                                                     POSIÇÃO  \\\n",
       "DOCUMENTO       DESCRIÇÃODOPROCEDIMENTO                        \n",
       "102565283890005 CONSULTA EM ORTOPEDIA - JOELHO             2   \n",
       "106406250770005 CONSULTA EM ORTOPEDIA (OMBROS)             4   \n",
       "106494974700008 CONSULTA EM ORTOPEDIA - COLUNA             2   \n",
       "107850981400007 CONSULTA EM ORTOPEDIA (OMBROS)             2   \n",
       "107972018630003 CONSULTA EM CIRURGIA GERAL - ADULTO        2   \n",
       "108641967650000 CONSULTA EM CIRURGIA GERAL - ADULTO        2   \n",
       "120268161090008 CONSULTA EM ORTOPEDIA - JOELHO             3   \n",
       "120522676990000 CONSULTA EM ORTOPEDIA - COLUNA             2   \n",
       "120788847680004 CONSULTA EM ORTOPEDIA (OMBROS)             2   \n",
       "121472585140003 CONSULTA EM ORTOPEDIA - COLUNA             2   \n",
       "\n",
       "                                                     TEMPOMÉDIODEESPERA(DIAS)  \\\n",
       "DOCUMENTO       DESCRIÇÃODOPROCEDIMENTO                                         \n",
       "102565283890005 CONSULTA EM ORTOPEDIA - JOELHO                              2   \n",
       "106406250770005 CONSULTA EM ORTOPEDIA (OMBROS)                              4   \n",
       "106494974700008 CONSULTA EM ORTOPEDIA - COLUNA                              2   \n",
       "107850981400007 CONSULTA EM ORTOPEDIA (OMBROS)                              2   \n",
       "107972018630003 CONSULTA EM CIRURGIA GERAL - ADULTO                         2   \n",
       "108641967650000 CONSULTA EM CIRURGIA GERAL - ADULTO                         2   \n",
       "120268161090008 CONSULTA EM ORTOPEDIA - JOELHO                              3   \n",
       "120522676990000 CONSULTA EM ORTOPEDIA - COLUNA                              2   \n",
       "120788847680004 CONSULTA EM ORTOPEDIA (OMBROS)                              2   \n",
       "121472585140003 CONSULTA EM ORTOPEDIA - COLUNA                              2   \n",
       "\n",
       "                                                     CLASSIFICAÇÃO  \\\n",
       "DOCUMENTO       DESCRIÇÃODOPROCEDIMENTO                              \n",
       "102565283890005 CONSULTA EM ORTOPEDIA - JOELHO                   2   \n",
       "106406250770005 CONSULTA EM ORTOPEDIA (OMBROS)                   4   \n",
       "106494974700008 CONSULTA EM ORTOPEDIA - COLUNA                   2   \n",
       "107850981400007 CONSULTA EM ORTOPEDIA (OMBROS)                   2   \n",
       "107972018630003 CONSULTA EM CIRURGIA GERAL - ADULTO              2   \n",
       "108641967650000 CONSULTA EM CIRURGIA GERAL - ADULTO              2   \n",
       "120268161090008 CONSULTA EM ORTOPEDIA - JOELHO                   3   \n",
       "120522676990000 CONSULTA EM ORTOPEDIA - COLUNA                   2   \n",
       "120788847680004 CONSULTA EM ORTOPEDIA (OMBROS)                   2   \n",
       "121472585140003 CONSULTA EM ORTOPEDIA - COLUNA                   2   \n",
       "\n",
       "                                                     TIPO DA LISTA  \\\n",
       "DOCUMENTO       DESCRIÇÃODOPROCEDIMENTO                              \n",
       "102565283890005 CONSULTA EM ORTOPEDIA - JOELHO                   2   \n",
       "106406250770005 CONSULTA EM ORTOPEDIA (OMBROS)                   4   \n",
       "106494974700008 CONSULTA EM ORTOPEDIA - COLUNA                   2   \n",
       "107850981400007 CONSULTA EM ORTOPEDIA (OMBROS)                   2   \n",
       "107972018630003 CONSULTA EM CIRURGIA GERAL - ADULTO              2   \n",
       "108641967650000 CONSULTA EM CIRURGIA GERAL - ADULTO              2   \n",
       "120268161090008 CONSULTA EM ORTOPEDIA - JOELHO                   3   \n",
       "120522676990000 CONSULTA EM ORTOPEDIA - COLUNA                   2   \n",
       "120788847680004 CONSULTA EM ORTOPEDIA (OMBROS)                   2   \n",
       "121472585140003 CONSULTA EM ORTOPEDIA - COLUNA                   2   \n",
       "\n",
       "                                                     DATADASOLICITAÇÃO  \\\n",
       "DOCUMENTO       DESCRIÇÃODOPROCEDIMENTO                                  \n",
       "102565283890005 CONSULTA EM ORTOPEDIA - JOELHO                       2   \n",
       "106406250770005 CONSULTA EM ORTOPEDIA (OMBROS)                       4   \n",
       "106494974700008 CONSULTA EM ORTOPEDIA - COLUNA                       2   \n",
       "107850981400007 CONSULTA EM ORTOPEDIA (OMBROS)                       2   \n",
       "107972018630003 CONSULTA EM CIRURGIA GERAL - ADULTO                  2   \n",
       "108641967650000 CONSULTA EM CIRURGIA GERAL - ADULTO                  2   \n",
       "120268161090008 CONSULTA EM ORTOPEDIA - JOELHO                       3   \n",
       "120522676990000 CONSULTA EM ORTOPEDIA - COLUNA                       2   \n",
       "120788847680004 CONSULTA EM ORTOPEDIA (OMBROS)                       2   \n",
       "121472585140003 CONSULTA EM ORTOPEDIA - COLUNA                       2   \n",
       "\n",
       "                                                     CIDADÃO  NASCIMENTO  \\\n",
       "DOCUMENTO       DESCRIÇÃODOPROCEDIMENTO                                    \n",
       "102565283890005 CONSULTA EM ORTOPEDIA - JOELHO             2           0   \n",
       "106406250770005 CONSULTA EM ORTOPEDIA (OMBROS)             4           0   \n",
       "106494974700008 CONSULTA EM ORTOPEDIA - COLUNA             2           0   \n",
       "107850981400007 CONSULTA EM ORTOPEDIA (OMBROS)             2           0   \n",
       "107972018630003 CONSULTA EM CIRURGIA GERAL - ADULTO        2           0   \n",
       "108641967650000 CONSULTA EM CIRURGIA GERAL - ADULTO        2           0   \n",
       "120268161090008 CONSULTA EM ORTOPEDIA - JOELHO             3           0   \n",
       "120522676990000 CONSULTA EM ORTOPEDIA - COLUNA             2           0   \n",
       "120788847680004 CONSULTA EM ORTOPEDIA (OMBROS)             2           0   \n",
       "121472585140003 CONSULTA EM ORTOPEDIA - COLUNA             2           0   \n",
       "\n",
       "                                                     CNES DA CENTRAL SOLICITANTE  \\\n",
       "DOCUMENTO       DESCRIÇÃODOPROCEDIMENTO                                            \n",
       "102565283890005 CONSULTA EM ORTOPEDIA - JOELHO                                 2   \n",
       "106406250770005 CONSULTA EM ORTOPEDIA (OMBROS)                                 4   \n",
       "106494974700008 CONSULTA EM ORTOPEDIA - COLUNA                                 2   \n",
       "107850981400007 CONSULTA EM ORTOPEDIA (OMBROS)                                 2   \n",
       "107972018630003 CONSULTA EM CIRURGIA GERAL - ADULTO                            2   \n",
       "108641967650000 CONSULTA EM CIRURGIA GERAL - ADULTO                            2   \n",
       "120268161090008 CONSULTA EM ORTOPEDIA - JOELHO                                 3   \n",
       "120522676990000 CONSULTA EM ORTOPEDIA - COLUNA                                 2   \n",
       "120788847680004 CONSULTA EM ORTOPEDIA (OMBROS)                                 2   \n",
       "121472585140003 CONSULTA EM ORTOPEDIA - COLUNA                                 2   \n",
       "\n",
       "                                                     CNESDACENTRALEXECUTANTE  \\\n",
       "DOCUMENTO       DESCRIÇÃODOPROCEDIMENTO                                        \n",
       "102565283890005 CONSULTA EM ORTOPEDIA - JOELHO                             2   \n",
       "106406250770005 CONSULTA EM ORTOPEDIA (OMBROS)                             4   \n",
       "106494974700008 CONSULTA EM ORTOPEDIA - COLUNA                             2   \n",
       "107850981400007 CONSULTA EM ORTOPEDIA (OMBROS)                             2   \n",
       "107972018630003 CONSULTA EM CIRURGIA GERAL - ADULTO                        2   \n",
       "108641967650000 CONSULTA EM CIRURGIA GERAL - ADULTO                        2   \n",
       "120268161090008 CONSULTA EM ORTOPEDIA - JOELHO                             3   \n",
       "120522676990000 CONSULTA EM ORTOPEDIA - COLUNA                             2   \n",
       "120788847680004 CONSULTA EM ORTOPEDIA (OMBROS)                             2   \n",
       "121472585140003 CONSULTA EM ORTOPEDIA - COLUNA                             2   \n",
       "\n",
       "                                                     CNESDAUNIDADESOLICITANTE  \\\n",
       "DOCUMENTO       DESCRIÇÃODOPROCEDIMENTO                                         \n",
       "102565283890005 CONSULTA EM ORTOPEDIA - JOELHO                              2   \n",
       "106406250770005 CONSULTA EM ORTOPEDIA (OMBROS)                              4   \n",
       "106494974700008 CONSULTA EM ORTOPEDIA - COLUNA                              2   \n",
       "107850981400007 CONSULTA EM ORTOPEDIA (OMBROS)                              2   \n",
       "107972018630003 CONSULTA EM CIRURGIA GERAL - ADULTO                         2   \n",
       "108641967650000 CONSULTA EM CIRURGIA GERAL - ADULTO                         2   \n",
       "120268161090008 CONSULTA EM ORTOPEDIA - JOELHO                              3   \n",
       "120522676990000 CONSULTA EM ORTOPEDIA - COLUNA                              2   \n",
       "120788847680004 CONSULTA EM ORTOPEDIA (OMBROS)                              2   \n",
       "121472585140003 CONSULTA EM ORTOPEDIA - COLUNA                              2   \n",
       "\n",
       "                                                     CÓDIGO SIGTAP DO PROCEDIMENTO  \\\n",
       "DOCUMENTO       DESCRIÇÃODOPROCEDIMENTO                                              \n",
       "102565283890005 CONSULTA EM ORTOPEDIA - JOELHO                                   2   \n",
       "106406250770005 CONSULTA EM ORTOPEDIA (OMBROS)                                   4   \n",
       "106494974700008 CONSULTA EM ORTOPEDIA - COLUNA                                   2   \n",
       "107850981400007 CONSULTA EM ORTOPEDIA (OMBROS)                                   2   \n",
       "107972018630003 CONSULTA EM CIRURGIA GERAL - ADULTO                              2   \n",
       "108641967650000 CONSULTA EM CIRURGIA GERAL - ADULTO                              2   \n",
       "120268161090008 CONSULTA EM ORTOPEDIA - JOELHO                                   3   \n",
       "120522676990000 CONSULTA EM ORTOPEDIA - COLUNA                                   2   \n",
       "120788847680004 CONSULTA EM ORTOPEDIA (OMBROS)                                   2   \n",
       "121472585140003 CONSULTA EM ORTOPEDIA - COLUNA                                   2   \n",
       "\n",
       "                                                     DESCRIÇÃO DO GRUPO DO PROCEDIMENTO  \n",
       "DOCUMENTO       DESCRIÇÃODOPROCEDIMENTO                                                  \n",
       "102565283890005 CONSULTA EM ORTOPEDIA - JOELHO                                        0  \n",
       "106406250770005 CONSULTA EM ORTOPEDIA (OMBROS)                                        0  \n",
       "106494974700008 CONSULTA EM ORTOPEDIA - COLUNA                                        0  \n",
       "107850981400007 CONSULTA EM ORTOPEDIA (OMBROS)                                        0  \n",
       "107972018630003 CONSULTA EM CIRURGIA GERAL - ADULTO                                   0  \n",
       "108641967650000 CONSULTA EM CIRURGIA GERAL - ADULTO                                   0  \n",
       "120268161090008 CONSULTA EM ORTOPEDIA - JOELHO                                        0  \n",
       "120522676990000 CONSULTA EM ORTOPEDIA - COLUNA                                        0  \n",
       "120788847680004 CONSULTA EM ORTOPEDIA (OMBROS)                                        0  \n",
       "121472585140003 CONSULTA EM ORTOPEDIA - COLUNA                                        0  "
      ]
     },
     "execution_count": 45,
     "metadata": {},
     "output_type": "execute_result"
    }
   ],
   "source": [
    "df.query('SERVIÇO == \"Consulta\" and MUNICÍPIODERESIDÊNCIA == \"FLORIANOPOLIS\"').groupby(['DOCUMENTO', 'DESCRIÇÃODOPROCEDIMENTO']).count().query('SERVIÇO > 1').head(10)  "
   ]
  },
  {
   "cell_type": "markdown",
   "metadata": {},
   "source": [
    "O mesmo paciente marcou 4 consultas com ortopedista em 1 ano.\n",
    "Será que ele perdeu o papel do agendamento?\n",
    "Daria para fazer uma limpeza, mantê-lo em 314º e excluir os outros registros?\n",
    "Caso ele vá na consulta que está na posição 314º, as seguintes chegam a ser marcadas? (considerando quando foram marcadas pro mesmo CNES e quando foram pra CNES diferentes)"
   ]
  },
  {
   "cell_type": "code",
   "execution_count": 46,
   "metadata": {},
   "outputs": [
    {
     "data": {
      "text/html": [
       "<div>\n",
       "<style>\n",
       "    .dataframe thead tr:only-child th {\n",
       "        text-align: right;\n",
       "    }\n",
       "\n",
       "    .dataframe thead th {\n",
       "        text-align: left;\n",
       "    }\n",
       "\n",
       "    .dataframe tbody tr th {\n",
       "        vertical-align: top;\n",
       "    }\n",
       "</style>\n",
       "<table border=\"1\" class=\"dataframe\">\n",
       "  <thead>\n",
       "    <tr style=\"text-align: right;\">\n",
       "      <th></th>\n",
       "      <th>SERVIÇO</th>\n",
       "      <th>POSIÇÃO</th>\n",
       "      <th>DATADASOLICITAÇÃO</th>\n",
       "      <th>DESCRIÇÃODOPROCEDIMENTO</th>\n",
       "      <th>CNESDACENTRALEXECUTANTE</th>\n",
       "    </tr>\n",
       "  </thead>\n",
       "  <tbody>\n",
       "    <tr>\n",
       "      <th>818446</th>\n",
       "      <td>Consulta</td>\n",
       "      <td>314</td>\n",
       "      <td>24/07/2012 09:32:26</td>\n",
       "      <td>CONSULTA EM ORTOPEDIA (OMBROS)</td>\n",
       "      <td>2692260</td>\n",
       "    </tr>\n",
       "    <tr>\n",
       "      <th>818622</th>\n",
       "      <td>Consulta</td>\n",
       "      <td>490</td>\n",
       "      <td>19/11/2012 09:48:33</td>\n",
       "      <td>CONSULTA EM ORTOPEDIA (OMBROS)</td>\n",
       "      <td>2692260</td>\n",
       "    </tr>\n",
       "    <tr>\n",
       "      <th>818878</th>\n",
       "      <td>Consulta</td>\n",
       "      <td>746</td>\n",
       "      <td>21/06/2013 16:07:22</td>\n",
       "      <td>CONSULTA EM ORTOPEDIA (OMBROS)</td>\n",
       "      <td>2692260</td>\n",
       "    </tr>\n",
       "    <tr>\n",
       "      <th>818943</th>\n",
       "      <td>Consulta</td>\n",
       "      <td>811</td>\n",
       "      <td>26/07/2013 17:31:28</td>\n",
       "      <td>CONSULTA EM ORTOPEDIA (OMBROS)</td>\n",
       "      <td>2692260</td>\n",
       "    </tr>\n",
       "  </tbody>\n",
       "</table>\n",
       "</div>"
      ],
      "text/plain": [
       "         SERVIÇO  POSIÇÃO    DATADASOLICITAÇÃO  \\\n",
       "818446  Consulta      314  24/07/2012 09:32:26   \n",
       "818622  Consulta      490  19/11/2012 09:48:33   \n",
       "818878  Consulta      746  21/06/2013 16:07:22   \n",
       "818943  Consulta      811  26/07/2013 17:31:28   \n",
       "\n",
       "               DESCRIÇÃODOPROCEDIMENTO CNESDACENTRALEXECUTANTE  \n",
       "818446  CONSULTA EM ORTOPEDIA (OMBROS)                 2692260  \n",
       "818622  CONSULTA EM ORTOPEDIA (OMBROS)                 2692260  \n",
       "818878  CONSULTA EM ORTOPEDIA (OMBROS)                 2692260  \n",
       "818943  CONSULTA EM ORTOPEDIA (OMBROS)                 2692260  "
      ]
     },
     "execution_count": 46,
     "metadata": {},
     "output_type": "execute_result"
    }
   ],
   "source": [
    "df.query('DOCUMENTO == 106406250770005')[['SERVIÇO', 'POSIÇÃO', 'DATADASOLICITAÇÃO', 'DESCRIÇÃODOPROCEDIMENTO', 'CNESDACENTRALEXECUTANTE']]"
   ]
  },
  {
   "cell_type": "markdown",
   "metadata": {},
   "source": [
    "# pacientes com o mesmo procedimento mais de uma vez na fila"
   ]
  },
  {
   "cell_type": "code",
   "execution_count": 47,
   "metadata": {},
   "outputs": [
    {
     "data": {
      "text/plain": [
       "(225580, 1)"
      ]
     },
     "execution_count": 47,
     "metadata": {},
     "output_type": "execute_result"
    }
   ],
   "source": [
    "unique_rows = df.groupby(['DOCUMENTO', 'DESCRIÇÃODOPROCEDIMENTO'])\n",
    "duplicated = df.groupby(['DOCUMENTO', 'DESCRIÇÃODOPROCEDIMENTO']).count().query('SERVIÇO > 1')[['SERVIÇO']].rename(columns={'SERVIÇO': 'duplicados'})\n",
    "duplicated.to_csv('pacientes_duplicados.csv', index=False)\n",
    "duplicated.shape"
   ]
  },
  {
   "cell_type": "code",
   "execution_count": 48,
   "metadata": {},
   "outputs": [
    {
     "data": {
      "text/html": [
       "<div>\n",
       "<style>\n",
       "    .dataframe thead tr:only-child th {\n",
       "        text-align: right;\n",
       "    }\n",
       "\n",
       "    .dataframe thead th {\n",
       "        text-align: left;\n",
       "    }\n",
       "\n",
       "    .dataframe tbody tr th {\n",
       "        vertical-align: top;\n",
       "    }\n",
       "</style>\n",
       "<table border=\"1\" class=\"dataframe\">\n",
       "  <thead>\n",
       "    <tr style=\"text-align: right;\">\n",
       "      <th></th>\n",
       "      <th></th>\n",
       "      <th>duplicados</th>\n",
       "    </tr>\n",
       "    <tr>\n",
       "      <th>DOCUMENTO</th>\n",
       "      <th>DESCRIÇÃODOPROCEDIMENTO</th>\n",
       "      <th></th>\n",
       "    </tr>\n",
       "  </thead>\n",
       "  <tbody>\n",
       "    <tr>\n",
       "      <th>702808617012564</th>\n",
       "      <th>ULTRA-SONOGRAFIA  DE ARTICULACAO MAO DIREITA</th>\n",
       "      <td>14</td>\n",
       "    </tr>\n",
       "    <tr>\n",
       "      <th>898002302685808</th>\n",
       "      <th>TOMOGRAFIA COMPUTADORIZADA DO ABDOMEN  SUPERIOR</th>\n",
       "      <td>11</td>\n",
       "    </tr>\n",
       "    <tr>\n",
       "      <th>8,98005E+14</th>\n",
       "      <th>CONSULTA EM OTORRINOLARINGOLOGIA GERAL</th>\n",
       "      <td>10</td>\n",
       "    </tr>\n",
       "    <tr>\n",
       "      <th>708208193824642</th>\n",
       "      <th>CONSULTA EM GASTROENTEROLOGIA - GERAL</th>\n",
       "      <td>8</td>\n",
       "    </tr>\n",
       "    <tr>\n",
       "      <th>8,9805E+14</th>\n",
       "      <th>CONSULTA EM ORTOPEDIA - GERAL</th>\n",
       "      <td>7</td>\n",
       "    </tr>\n",
       "    <tr>\n",
       "      <th>898002858929019</th>\n",
       "      <th>CONSULTA EM REUMATOLOGIA - GERAL</th>\n",
       "      <td>6</td>\n",
       "    </tr>\n",
       "    <tr>\n",
       "      <th>709201250723236</th>\n",
       "      <th>CONSULTA EM ORTOPEDIA (OMBROS)</th>\n",
       "      <td>6</td>\n",
       "    </tr>\n",
       "    <tr>\n",
       "      <th>124836680560000</th>\n",
       "      <th>CONSULTA EM OFTALMOLOGIA - GERAL</th>\n",
       "      <td>6</td>\n",
       "    </tr>\n",
       "    <tr>\n",
       "      <th>8,98004E+14</th>\n",
       "      <th>CONSULTA EM OTORRINOLARINGOLOGIA GERAL</th>\n",
       "      <td>6</td>\n",
       "    </tr>\n",
       "    <tr>\n",
       "      <th>898000360892436</th>\n",
       "      <th>ESTUDO URODINAMICO</th>\n",
       "      <td>6</td>\n",
       "    </tr>\n",
       "    <tr>\n",
       "      <th>898003386998498</th>\n",
       "      <th>CONSULTA EM REABILITACAO INTELECTUAL /AUTISMO</th>\n",
       "      <td>6</td>\n",
       "    </tr>\n",
       "    <tr>\n",
       "      <th>8,98003E+14</th>\n",
       "      <th>CONSULTA EM OTORRINOLARINGOLOGIA GERAL</th>\n",
       "      <td>5</td>\n",
       "    </tr>\n",
       "    <tr>\n",
       "      <th>898002352416886</th>\n",
       "      <th>ULTRA-SONOGRAFIA DE MAMAS (BILATERAL)</th>\n",
       "      <td>5</td>\n",
       "    </tr>\n",
       "    <tr>\n",
       "      <th>898001920757009</th>\n",
       "      <th>ULTRA-SONOGRAFIA  DE VIAS URINARIAS (ACIMA DE 13 ANOS)</th>\n",
       "      <td>5</td>\n",
       "    </tr>\n",
       "    <tr>\n",
       "      <th>203455784940000</th>\n",
       "      <th>CONSULTA EM ORTOPEDIA - COLUNA</th>\n",
       "      <td>5</td>\n",
       "    </tr>\n",
       "  </tbody>\n",
       "</table>\n",
       "</div>"
      ],
      "text/plain": [
       "                                                                    duplicados\n",
       "DOCUMENTO       DESCRIÇÃODOPROCEDIMENTO                                       \n",
       "702808617012564 ULTRA-SONOGRAFIA  DE ARTICULACAO MAO DIREITA                14\n",
       "898002302685808 TOMOGRAFIA COMPUTADORIZADA DO ABDOMEN  SUPERIOR             11\n",
       "8,98005E+14     CONSULTA EM OTORRINOLARINGOLOGIA GERAL                      10\n",
       "708208193824642 CONSULTA EM GASTROENTEROLOGIA - GERAL                        8\n",
       "8,9805E+14      CONSULTA EM ORTOPEDIA - GERAL                                7\n",
       "898002858929019 CONSULTA EM REUMATOLOGIA - GERAL                             6\n",
       "709201250723236 CONSULTA EM ORTOPEDIA (OMBROS)                               6\n",
       "124836680560000 CONSULTA EM OFTALMOLOGIA - GERAL                             6\n",
       "8,98004E+14     CONSULTA EM OTORRINOLARINGOLOGIA GERAL                       6\n",
       "898000360892436 ESTUDO URODINAMICO                                           6\n",
       "898003386998498 CONSULTA EM REABILITACAO INTELECTUAL /AUTISMO                6\n",
       "8,98003E+14     CONSULTA EM OTORRINOLARINGOLOGIA GERAL                       5\n",
       "898002352416886 ULTRA-SONOGRAFIA DE MAMAS (BILATERAL)                        5\n",
       "898001920757009 ULTRA-SONOGRAFIA  DE VIAS URINARIAS (ACIMA DE 1...           5\n",
       "203455784940000 CONSULTA EM ORTOPEDIA - COLUNA                               5"
      ]
     },
     "execution_count": 48,
     "metadata": {},
     "output_type": "execute_result"
    }
   ],
   "source": [
    "duplicated.sort_values(by='duplicados', ascending=False).head(15)"
   ]
  },
  {
   "cell_type": "markdown",
   "metadata": {},
   "source": [
    "# fila sem duplicações"
   ]
  },
  {
   "cell_type": "code",
   "execution_count": 49,
   "metadata": {},
   "outputs": [
    {
     "data": {
      "text/plain": [
       "(1080625, 17)"
      ]
     },
     "execution_count": 49,
     "metadata": {},
     "output_type": "execute_result"
    }
   ],
   "source": [
    "df_deduplified = df.sort_values(by='POSIÇÃO')\n",
    "df_deduplified.drop_duplicates(subset=['DOCUMENTO', 'DESCRIÇÃODOPROCEDIMENTO'], keep='first', inplace=True)\n",
    "df_deduplified.to_csv('fila_deduplicada.csv', index=False)\n",
    "df_deduplified.shape"
   ]
  },
  {
   "cell_type": "code",
   "execution_count": 50,
   "metadata": {
    "collapsed": true
   },
   "outputs": [],
   "source": [
    "def deduplicate_stats(query=None):\n",
    "    if query:\n",
    "        df_tmp = df.query(query)\n",
    "    else:\n",
    "        df_tmp = df\n",
    "    total_rows = len(df_tmp)\n",
    "    unique_rows = len(df_tmp.groupby(['DOCUMENTO', 'DESCRIÇÃODOPROCEDIMENTO']))\n",
    "    unique_rows_same_date = len(df_tmp.groupby(['DOCUMENTO', 'DESCRIÇÃODOPROCEDIMENTO', 'DATADASOLICITAÇÃO']))\n",
    "    reducao_fila = (total_rows - unique_rows) / total_rows\n",
    "    print('           registros na fila:', total_rows)\n",
    "    print('    registros únicos na fila:', unique_rows)\n",
    "    print('          duplicados (total):', total_rows - unique_rows)\n",
    "    print('duplicados (mesmo timestamp):', total_rows - unique_rows_same_date)\n",
    "    print('    redução com deduplicação:', int(100*reducao_fila), '%')"
   ]
  },
  {
   "cell_type": "markdown",
   "metadata": {},
   "source": [
    "### análise de pacientes / habitante (por município)"
   ]
  },
  {
   "cell_type": "code",
   "execution_count": 51,
   "metadata": {
    "collapsed": true
   },
   "outputs": [],
   "source": [
    "def perc_pacientes(municipio, populacao):\n",
    "    pacientes = len(set(df.query('MUNICÍPIODERESIDÊNCIA == \"'+municipio+'\"')['DOCUMENTO']))\n",
    "    perc_pacientes = pacientes / populacao\n",
    "    print(int(100*perc_pacientes), '% -', municipio)"
   ]
  },
  {
   "cell_type": "markdown",
   "metadata": {},
   "source": [
    "Por que Joinville tem tão poucas pessoas na fila do SUS? As pessoas são mais saudáveis ou mais ricas?"
   ]
  },
  {
   "cell_type": "code",
   "execution_count": 52,
   "metadata": {},
   "outputs": [
    {
     "name": "stdout",
     "output_type": "stream",
     "text": [
      "35 % - PALHOCA\n",
      "32 % - FLORIANOPOLIS\n",
      "34 % - SAO JOSE\n",
      "11 % - BLUMENAU\n",
      "40 % - BIGUACU\n",
      "13 % - BRUSQUE\n",
      "26 % - CHAPECO\n",
      "45 % - CRICIUMA\n",
      "39 % - GOVERNADOR CELSO RAMOS\n",
      "2 % - JOINVILLE\n",
      "42 % - SANTO AMARO DA IMPERATRIZ\n"
     ]
    }
   ],
   "source": [
    "perc_pacientes('PALHOCA', 119360)\n",
    "perc_pacientes('FLORIANOPOLIS', 249477)\n",
    "perc_pacientes('SAO JOSE', 210513)\n",
    "perc_pacientes('BLUMENAU', 309214)\n",
    "perc_pacientes('BIGUACU', 63440)\n",
    "perc_pacientes('BRUSQUE', 102025)\n",
    "perc_pacientes('CHAPECO', 166040)\n",
    "perc_pacientes('CRICIUMA', 133031)\n",
    "perc_pacientes('GOVERNADOR CELSO RAMOS', 13944)\n",
    "perc_pacientes('JOINVILLE', 486803)\n",
    "perc_pacientes('SANTO AMARO DA IMPERATRIZ', 17602)"
   ]
  },
  {
   "cell_type": "markdown",
   "metadata": {},
   "source": [
    "## exames mais solicitados"
   ]
  },
  {
   "cell_type": "code",
   "execution_count": 53,
   "metadata": {},
   "outputs": [
    {
     "data": {
      "text/html": [
       "<div>\n",
       "<style>\n",
       "    .dataframe thead tr:only-child th {\n",
       "        text-align: right;\n",
       "    }\n",
       "\n",
       "    .dataframe thead th {\n",
       "        text-align: left;\n",
       "    }\n",
       "\n",
       "    .dataframe tbody tr th {\n",
       "        vertical-align: top;\n",
       "    }\n",
       "</style>\n",
       "<table border=\"1\" class=\"dataframe\">\n",
       "  <thead>\n",
       "    <tr style=\"text-align: right;\">\n",
       "      <th></th>\n",
       "      <th>DESCRIÇÃODOPROCEDIMENTO</th>\n",
       "    </tr>\n",
       "  </thead>\n",
       "  <tbody>\n",
       "    <tr>\n",
       "      <th>CONSULTA EM OFTALMOLOGIA - GERAL</th>\n",
       "      <td>66417</td>\n",
       "    </tr>\n",
       "    <tr>\n",
       "      <th>CONSULTA EM OTORRINOLARINGOLOGIA - GERAL</th>\n",
       "      <td>29972</td>\n",
       "    </tr>\n",
       "    <tr>\n",
       "      <th>ULTRA-SONOGRAFIA TRANSVAGINAL</th>\n",
       "      <td>28250</td>\n",
       "    </tr>\n",
       "    <tr>\n",
       "      <th>CONSULTA EM ORTOPEDIA - GERAL</th>\n",
       "      <td>26785</td>\n",
       "    </tr>\n",
       "    <tr>\n",
       "      <th>HEMOGRAMA COMPLETO</th>\n",
       "      <td>26014</td>\n",
       "    </tr>\n",
       "    <tr>\n",
       "      <th>TRIGLICERIDEOS</th>\n",
       "      <td>21507</td>\n",
       "    </tr>\n",
       "    <tr>\n",
       "      <th>CREATININA</th>\n",
       "      <td>19010</td>\n",
       "    </tr>\n",
       "    <tr>\n",
       "      <th>GLICEMIA DE JEJUM</th>\n",
       "      <td>18521</td>\n",
       "    </tr>\n",
       "    <tr>\n",
       "      <th>ENDOSCOPIA DIGESTIVA ALTA</th>\n",
       "      <td>17761</td>\n",
       "    </tr>\n",
       "    <tr>\n",
       "      <th>CONSULTA EM DERMATOLOGIA - GERAL</th>\n",
       "      <td>17345</td>\n",
       "    </tr>\n",
       "  </tbody>\n",
       "</table>\n",
       "</div>"
      ],
      "text/plain": [
       "                                          DESCRIÇÃODOPROCEDIMENTO\n",
       "CONSULTA EM OFTALMOLOGIA - GERAL                            66417\n",
       "CONSULTA EM OTORRINOLARINGOLOGIA - GERAL                    29972\n",
       "ULTRA-SONOGRAFIA TRANSVAGINAL                               28250\n",
       "CONSULTA EM ORTOPEDIA - GERAL                               26785\n",
       "HEMOGRAMA COMPLETO                                          26014\n",
       "TRIGLICERIDEOS                                              21507\n",
       "CREATININA                                                  19010\n",
       "GLICEMIA DE JEJUM                                           18521\n",
       "ENDOSCOPIA DIGESTIVA ALTA                                   17761\n",
       "CONSULTA EM DERMATOLOGIA - GERAL                            17345"
      ]
     },
     "execution_count": 53,
     "metadata": {},
     "output_type": "execute_result"
    }
   ],
   "source": [
    "df['DESCRIÇÃODOPROCEDIMENTO'].value_counts().to_frame().head(10)"
   ]
  },
  {
   "cell_type": "markdown",
   "metadata": {},
   "source": [
    "### cidades que mais solicitam o exame mais procurado"
   ]
  },
  {
   "cell_type": "code",
   "execution_count": 54,
   "metadata": {},
   "outputs": [
    {
     "data": {
      "text/html": [
       "<div>\n",
       "<style>\n",
       "    .dataframe thead tr:only-child th {\n",
       "        text-align: right;\n",
       "    }\n",
       "\n",
       "    .dataframe thead th {\n",
       "        text-align: left;\n",
       "    }\n",
       "\n",
       "    .dataframe tbody tr th {\n",
       "        vertical-align: top;\n",
       "    }\n",
       "</style>\n",
       "<table border=\"1\" class=\"dataframe\">\n",
       "  <thead>\n",
       "    <tr style=\"text-align: right;\">\n",
       "      <th></th>\n",
       "      <th>MUNICÍPIODERESIDÊNCIA</th>\n",
       "    </tr>\n",
       "  </thead>\n",
       "  <tbody>\n",
       "    <tr>\n",
       "      <th>FLORIANOPOLIS</th>\n",
       "      <td>19032</td>\n",
       "    </tr>\n",
       "    <tr>\n",
       "      <th>CRICIUMA</th>\n",
       "      <td>13661</td>\n",
       "    </tr>\n",
       "    <tr>\n",
       "      <th>CHAPECO</th>\n",
       "      <td>9142</td>\n",
       "    </tr>\n",
       "    <tr>\n",
       "      <th>PALHOCA</th>\n",
       "      <td>7677</td>\n",
       "    </tr>\n",
       "    <tr>\n",
       "      <th>SAO JOSE</th>\n",
       "      <td>2633</td>\n",
       "    </tr>\n",
       "    <tr>\n",
       "      <th>LAGES</th>\n",
       "      <td>2004</td>\n",
       "    </tr>\n",
       "    <tr>\n",
       "      <th>SAO JOAO BATISTA</th>\n",
       "      <td>1597</td>\n",
       "    </tr>\n",
       "    <tr>\n",
       "      <th>CONCORDIA</th>\n",
       "      <td>1175</td>\n",
       "    </tr>\n",
       "    <tr>\n",
       "      <th>SAO MIGUEL DO OESTE</th>\n",
       "      <td>1131</td>\n",
       "    </tr>\n",
       "    <tr>\n",
       "      <th>ARARANGUA</th>\n",
       "      <td>1040</td>\n",
       "    </tr>\n",
       "  </tbody>\n",
       "</table>\n",
       "</div>"
      ],
      "text/plain": [
       "                     MUNICÍPIODERESIDÊNCIA\n",
       "FLORIANOPOLIS                        19032\n",
       "CRICIUMA                             13661\n",
       "CHAPECO                               9142\n",
       "PALHOCA                               7677\n",
       "SAO JOSE                              2633\n",
       "LAGES                                 2004\n",
       "SAO JOAO BATISTA                      1597\n",
       "CONCORDIA                             1175\n",
       "SAO MIGUEL DO OESTE                   1131\n",
       "ARARANGUA                             1040"
      ]
     },
     "execution_count": 54,
     "metadata": {},
     "output_type": "execute_result"
    }
   ],
   "source": [
    "df.query('DESCRIÇÃODOPROCEDIMENTO == \"CONSULTA EM OFTALMOLOGIA - GERAL\"')['MUNICÍPIODERESIDÊNCIA'].value_counts().to_frame().head(10) "
   ]
  },
  {
   "cell_type": "markdown",
   "metadata": {},
   "source": [
    "Pacientes de Canelinha, ao solicitar uma consulta em oftalmologia, são direcionadas a 4 centrais executantes diferentes, que possuem tempo de espera entre 34 e 417 dias. Sugestão: rotear as pessoas para centrais com menos pacientes.  "
   ]
  },
  {
   "cell_type": "code",
   "execution_count": 55,
   "metadata": {},
   "outputs": [
    {
     "data": {
      "text/html": [
       "<div>\n",
       "<style>\n",
       "    .dataframe thead tr:only-child th {\n",
       "        text-align: right;\n",
       "    }\n",
       "\n",
       "    .dataframe thead th {\n",
       "        text-align: left;\n",
       "    }\n",
       "\n",
       "    .dataframe tbody tr th {\n",
       "        vertical-align: top;\n",
       "    }\n",
       "</style>\n",
       "<table border=\"1\" class=\"dataframe\">\n",
       "  <thead>\n",
       "    <tr style=\"text-align: right;\">\n",
       "      <th></th>\n",
       "      <th></th>\n",
       "      <th></th>\n",
       "      <th></th>\n",
       "      <th></th>\n",
       "      <th>POSIÇÃO</th>\n",
       "    </tr>\n",
       "    <tr>\n",
       "      <th>CÓDIGO SIGTAP DO PROCEDIMENTO</th>\n",
       "      <th>MUNICÍPIODERESIDÊNCIA</th>\n",
       "      <th>CNESDACENTRALEXECUTANTE</th>\n",
       "      <th>TEMPOMÉDIODEESPERA(DIAS)</th>\n",
       "      <th>CLASSIFICAÇÃO</th>\n",
       "      <th></th>\n",
       "    </tr>\n",
       "  </thead>\n",
       "  <tbody>\n",
       "    <tr>\n",
       "      <th rowspan=\"9\" valign=\"top\">301010072.0</th>\n",
       "      <th rowspan=\"9\" valign=\"top\">CANELINHA</th>\n",
       "      <th rowspan=\"3\" valign=\"top\">2692260</th>\n",
       "      <th rowspan=\"3\" valign=\"top\">417.0</th>\n",
       "      <th>2 - Amarelo</th>\n",
       "      <td>12</td>\n",
       "    </tr>\n",
       "    <tr>\n",
       "      <th>3 - Verde</th>\n",
       "      <td>7</td>\n",
       "    </tr>\n",
       "    <tr>\n",
       "      <th>4 - Azul</th>\n",
       "      <td>6</td>\n",
       "    </tr>\n",
       "    <tr>\n",
       "      <th rowspan=\"4\" valign=\"top\">6515681</th>\n",
       "      <th rowspan=\"2\" valign=\"top\">44.0</th>\n",
       "      <th>1 - Vermelho</th>\n",
       "      <td>4</td>\n",
       "    </tr>\n",
       "    <tr>\n",
       "      <th>4 - Azul</th>\n",
       "      <td>34</td>\n",
       "    </tr>\n",
       "    <tr>\n",
       "      <th rowspan=\"2\" valign=\"top\">45.0</th>\n",
       "      <th>1 - Vermelho</th>\n",
       "      <td>1</td>\n",
       "    </tr>\n",
       "    <tr>\n",
       "      <th>4 - Azul</th>\n",
       "      <td>32</td>\n",
       "    </tr>\n",
       "    <tr>\n",
       "      <th>6541666</th>\n",
       "      <th>34.0</th>\n",
       "      <th>4 - Azul</th>\n",
       "      <td>4</td>\n",
       "    </tr>\n",
       "    <tr>\n",
       "      <th>6939392</th>\n",
       "      <th>395.0</th>\n",
       "      <th>4 - Azul</th>\n",
       "      <td>16</td>\n",
       "    </tr>\n",
       "  </tbody>\n",
       "</table>\n",
       "</div>"
      ],
      "text/plain": [
       "                                                                                                                    POSIÇÃO\n",
       "CÓDIGO SIGTAP DO PROCEDIMENTO MUNICÍPIODERESIDÊNCIA CNESDACENTRALEXECUTANTE TEMPOMÉDIODEESPERA(DIAS) CLASSIFICAÇÃO         \n",
       "301010072.0                   CANELINHA             2692260                 417.0                    2 - Amarelo         12\n",
       "                                                                                                     3 - Verde            7\n",
       "                                                                                                     4 - Azul             6\n",
       "                                                    6515681                 44.0                     1 - Vermelho         4\n",
       "                                                                                                     4 - Azul            34\n",
       "                                                                            45.0                     1 - Vermelho         1\n",
       "                                                                                                     4 - Azul            32\n",
       "                                                    6541666                 34.0                     4 - Azul             4\n",
       "                                                    6939392                 395.0                    4 - Azul            16"
      ]
     },
     "execution_count": 55,
     "metadata": {},
     "output_type": "execute_result"
    }
   ],
   "source": [
    "df.query('DESCRIÇÃODOPROCEDIMENTO == \"CONSULTA EM OFTALMOLOGIA - GERAL\"').groupby(['CÓDIGO SIGTAP DO PROCEDIMENTO', 'MUNICÍPIODERESIDÊNCIA', 'CNESDACENTRALEXECUTANTE', 'TEMPOMÉDIODEESPERA(DIAS)', 'CLASSIFICAÇÃO']).count()[['POSIÇÃO']].query('MUNICÍPIODERESIDÊNCIA == \"CANELINHA\"') "
   ]
  },
  {
   "cell_type": "code",
   "execution_count": 56,
   "metadata": {},
   "outputs": [
    {
     "name": "stdout",
     "output_type": "stream",
     "text": [
      "min 2014-12-12 13:47:16\n",
      "max 2017-11-27 14:16:20\n"
     ]
    }
   ],
   "source": [
    "datas = df.query('DESCRIÇÃODOPROCEDIMENTO == \"CONSULTA EM OFTALMOLOGIA - GERAL\" and MUNICÍPIODERESIDÊNCIA == \"CANELINHA\"').DATADASOLICITAÇÃO  \n",
    "print('min', min(pd.to_datetime(datas)))\n",
    "print('max', max(pd.to_datetime(datas)))"
   ]
  }
 ],
 "metadata": {
  "kernelspec": {
   "display_name": "Python 3",
   "language": "python",
   "name": "python3"
  },
  "language_info": {
   "codemirror_mode": {
    "name": "ipython",
    "version": 3
   },
   "file_extension": ".py",
   "mimetype": "text/x-python",
   "name": "python",
   "nbconvert_exporter": "python",
   "pygments_lexer": "ipython3",
   "version": "3.5.3"
  }
 },
 "nbformat": 4,
 "nbformat_minor": 2
}
